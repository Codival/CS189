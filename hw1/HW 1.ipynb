{
 "cells": [
  {
   "cell_type": "code",
   "execution_count": 1,
   "metadata": {},
   "outputs": [
    {
     "name": "stdout",
     "output_type": "stream",
     "text": [
      "\n",
      "loaded mnist data!\n",
      "test_data (10000, 784)\n",
      "training_data (60000, 784)\n",
      "training_labels (60000, 1)\n",
      "\n",
      "loaded spam data!\n",
      "test_data (5857, 32)\n",
      "training_data (5172, 32)\n",
      "training_labels (5172, 1)\n",
      "\n",
      "loaded cifar10 data!\n",
      "test_data (10000, 3072)\n",
      "training_data (50000, 3072)\n",
      "training_labels (50000, 1)\n"
     ]
    }
   ],
   "source": [
    "import sys\n",
    "if sys.version_info[0] < 3:\n",
    "    raise Exception(\"Python 3 not detected.\")\n",
    "import numpy as np\n",
    "import matplotlib.pyplot as plt\n",
    "from sklearn import svm\n",
    "from scipy import io\n",
    "for data_name in [\"mnist\", \"spam\", \"cifar10\"]:\n",
    "    data = io.loadmat(\"data/%s_data.mat\" % data_name)\n",
    "    print(\"\\nloaded %s data!\" % data_name)\n",
    "    fields = \"test_data\", \"training_data\", \"training_labels\"\n",
    "    for field in fields:\n",
    "        print(field, data[field].shape)"
   ]
  },
  {
   "cell_type": "code",
   "execution_count": 2,
   "metadata": {},
   "outputs": [],
   "source": [
    "from sklearn.utils import shuffle\n",
    "#mnist\n",
    "mnist_data = io.loadmat(\"data/mnist_data.mat\")\n",
    "shuffled_data,shuffled_labels = shuffle(mnist_data['training_data'],mnist_data['training_labels'])\n",
    "validation_data = shuffled_data[:10000]\n",
    "validation_labels = shuffled_labels[:10000]\n",
    "shuffled_data = shuffled_data[10000:]\n",
    "shuffled_labels = shuffled_labels[10000:]"
   ]
  },
  {
   "cell_type": "code",
   "execution_count": 3,
   "metadata": {},
   "outputs": [],
   "source": [
    "#spam\n",
    "spam_data = io.loadmat(\"data/spam_data.mat\")\n",
    "shuffled_spam_data,shuffled_spam_labels = shuffle(spam_data['training_data'],spam_data['training_labels'])\n",
    "length = round(shuffled_spam_data.shape[0]*.2)\n",
    "validation_spam_data = shuffled_spam_data[:length]\n",
    "validation_spam_labels = shuffled_spam_labels[:length]\n",
    "shuffled_spam_data = shuffled_spam_data[length:]\n",
    "shuffled_spam_labels = shuffled_spam_labels[length:]"
   ]
  },
  {
   "cell_type": "code",
   "execution_count": 4,
   "metadata": {},
   "outputs": [],
   "source": [
    "#cifar10\n",
    "cifar10_data = io.loadmat(\"data/cifar10_data.mat\")\n",
    "shuffled_cifar10_data,shuffled_cifar10_labels = shuffle(cifar10_data['training_data'],cifar10_data['training_labels'])\n",
    "validation_cifar10_data = shuffled_cifar10_data[:5000]\n",
    "validation_cifar10_labels = shuffled_cifar10_labels[:5000]\n",
    "shuffled_cifar10_data = shuffled_cifar10_data[5000:]\n",
    "shuffled_cifar10_labels = shuffled_cifar10_labels[5000:]"
   ]
  },
  {
   "cell_type": "code",
   "execution_count": 22,
   "metadata": {},
   "outputs": [
    {
     "name": "stderr",
     "output_type": "stream",
     "text": [
      "C:\\ProgramData\\Anaconda3\\lib\\site-packages\\sklearn\\utils\\validation.py:578: DataConversionWarning: A column-vector y was passed when a 1d array was expected. Please change the shape of y to (n_samples, ), for example using ravel().\n",
      "  y = column_or_1d(y, warn=True)\n"
     ]
    },
    {
     "name": "stdout",
     "output_type": "stream",
     "text": [
      "0.7742\n",
      "0.818\n",
      "0.8594\n",
      "0.886\n",
      "0.895\n",
      "0.9012\n",
      "0.9106\n"
     ]
    },
    {
     "data": {
      "image/png": "[encoded data removed]",
      "text/plain": [
       "<Figure size 432x288 with 1 Axes>"
      ]
     },
     "metadata": {},
     "output_type": "display_data"
    }
   ],
   "source": [
    "from sklearn.svm import SVC\n",
    "from sklearn.metrics import accuracy_score\n",
    "mnist_errors = []\n",
    "mnist_train_errors = []\n",
    "for i in [100, 200, 500, 1000, 2000, 5000, 10000]:\n",
    "    data = shuffled_data[:i]\n",
    "    labels = shuffled_labels[:i]\n",
    "    mnist_clf = SVC(kernel = 'linear')\n",
    "    mnist_clf.fit(data, labels)\n",
    "    mnist_pred = mnist_clf.predict(validation_data)\n",
    "    mnist_train_pred = mnist_clf.predict(data)\n",
    "    mnist_score = accuracy_score(validation_labels, mnist_pred)\n",
    "    mnist_train_score = accuracy_score(labels, mnist_train_pred)\n",
    "    mnist_errors += [1-mnist_score]\n",
    "    mnist_train_errors += [1-mnist_train_score]\n",
    "    print(mnist_score)\n",
    "plt.plot([100, 200, 500, 1000, 2000, 5000, 10000],mnist_errors)\n",
    "plt.plot([100, 200, 500, 1000, 2000, 5000, 10000], mnist_train_errors)\n",
    "plt.show()"
   ]
  },
  {
   "cell_type": "code",
   "execution_count": 26,
   "metadata": {},
   "outputs": [
    {
     "name": "stderr",
     "output_type": "stream",
     "text": [
      "C:\\ProgramData\\Anaconda3\\lib\\site-packages\\sklearn\\utils\\validation.py:578: DataConversionWarning: A column-vector y was passed when a 1d array was expected. Please change the shape of y to (n_samples, ), for example using ravel().\n",
      "  y = column_or_1d(y, warn=True)\n"
     ]
    },
    {
     "name": "stdout",
     "output_type": "stream",
     "text": [
      "0.7949709864603481\n",
      "0.804642166344294\n",
      "0.8075435203094777\n",
      "0.8133462282398453\n",
      "0.809477756286267\n",
      "0.811411992263056\n"
     ]
    },
    {
     "data": {
      "image/png": "[encoded data removed]",
      "text/plain": [
       "<Figure size 432x288 with 1 Axes>"
      ]
     },
     "metadata": {},
     "output_type": "display_data"
    }
   ],
   "source": [
    "spam_errors = []\n",
    "spam_train_errors = []\n",
    "for i in [100, 200, 500, 1000, 2000,len(shuffled_spam_data)]:\n",
    "    data = shuffled_spam_data[:i]\n",
    "    labels = shuffled_spam_labels[:i]\n",
    "    spam_clf = SVC(kernel = 'linear')\n",
    "    spam_clf.fit(data, labels)\n",
    "    spam_pred = spam_clf.predict(validation_spam_data)\n",
    "    spam_train_pred = spam_clf.predict(data)\n",
    "    spam_score = accuracy_score(validation_spam_labels, spam_pred)\n",
    "    spam_train_score = accuracy_score(labels, spam_train_pred)\n",
    "    spam_errors += [1-spam_score]\n",
    "    spam_train_errors += [1-spam_train_score]\n",
    "    print(spam_score)\n",
    "plt.plot([100, 200, 500, 1000, 2000,len(shuffled_spam_data)],spam_errors)\n",
    "plt.plot([100, 200, 500, 1000, 2000,len(shuffled_spam_data)],spam_train_errors)\n",
    "plt.show()"
   ]
  },
  {
   "cell_type": "code",
   "execution_count": 27,
   "metadata": {},
   "outputs": [
    {
     "name": "stderr",
     "output_type": "stream",
     "text": [
      "C:\\ProgramData\\Anaconda3\\lib\\site-packages\\sklearn\\utils\\validation.py:578: DataConversionWarning: A column-vector y was passed when a 1d array was expected. Please change the shape of y to (n_samples, ), for example using ravel().\n",
      "  y = column_or_1d(y, warn=True)\n"
     ]
    },
    {
     "name": "stdout",
     "output_type": "stream",
     "text": [
      "0.2286\n",
      "0.26\n",
      "0.2878\n",
      "0.3026\n",
      "0.3024\n",
      "0.3026\n"
     ]
    },
    {
     "data": {
      "image/png": "[encoded data removed]",
      "text/plain": [
       "<Figure size 432x288 with 1 Axes>"
      ]
     },
     "metadata": {},
     "output_type": "display_data"
    }
   ],
   "source": [
    "cifar10_errors = []\n",
    "cifar10_train_errors=[]\n",
    "for i in [100, 200, 500, 1000, 2000, 5000]:\n",
    "    data = shuffled_cifar10_data[:i]\n",
    "    labels = shuffled_cifar10_labels[:i]\n",
    "    cifar10_clf = SVC(kernel = 'linear')\n",
    "    cifar10_clf.fit(data, labels)\n",
    "    cifar10_pred = cifar10_clf.predict(validation_cifar10_data)\n",
    "    cifar10_train_pred = cifar10_clf.predict(data)\n",
    "    cifar10_score = accuracy_score(validation_cifar10_labels, cifar10_pred)\n",
    "    cifar10_train_score = accuracy_score(labels, cifar10_train_pred)\n",
    "    cifar10_errors += [1-cifar10_score]\n",
    "    cifar10_train_errors += [1-cifar10_train_score]\n",
    "    print(cifar10_score)\n",
    "plt.plot([100, 200, 500, 1000, 2000, 5000],cifar10_errors)\n",
    "plt.plot([100, 200, 500, 1000, 2000, 5000],cifar10_train_errors)\n",
    "plt.show()"
   ]
  },
  {
   "cell_type": "code",
   "execution_count": 8,
   "metadata": {},
   "outputs": [
    {
     "name": "stderr",
     "output_type": "stream",
     "text": [
      "C:\\ProgramData\\Anaconda3\\lib\\site-packages\\sklearn\\utils\\validation.py:578: DataConversionWarning: A column-vector y was passed when a 1d array was expected. Please change the shape of y to (n_samples, ), for example using ravel().\n",
      "  y = column_or_1d(y, warn=True)\n"
     ]
    },
    {
     "name": "stdout",
     "output_type": "stream",
     "text": [
      "0.9151\n",
      "0.9151\n",
      "0.9151\n",
      "0.9151\n",
      "0.9151\n",
      "0.9151\n",
      "0.9151\n",
      "0.9151\n"
     ]
    },
    {
     "data": {
      "image/png": "[encoded data removed]",
      "text/plain": [
       "<Figure size 432x288 with 1 Axes>"
      ]
     },
     "metadata": {},
     "output_type": "display_data"
    }
   ],
   "source": [
    "mnist_scores1 = []\n",
    "for i in [10**-4, 10**-3, 10**-2, 10**-1, 10, 100, 1000, 10000]:\n",
    "    data = shuffled_data[:10000]\n",
    "    labels = shuffled_labels[:10000]\n",
    "    mnist_clf = SVC(kernel = 'linear', C = i)\n",
    "    mnist_clf = mnist_clf.fit(data, labels)\n",
    "    mnist_pred = mnist_clf.predict(validation_data)\n",
    "    mnist_score = accuracy_score(validation_labels, mnist_pred)\n",
    "    mnist_scores1 += [mnist_score]\n",
    "    print(mnist_score)\n",
    "plt.plot([10**-4, 10**-3, 10**-2, 10**-1, 10, 100, 1000, 10000],mnist_scores1)\n",
    "plt.show()"
   ]
  },
  {
   "cell_type": "code",
   "execution_count": 9,
   "metadata": {},
   "outputs": [
    {
     "name": "stderr",
     "output_type": "stream",
     "text": [
      "C:\\ProgramData\\Anaconda3\\lib\\site-packages\\sklearn\\utils\\validation.py:578: DataConversionWarning: A column-vector y was passed when a 1d array was expected. Please change the shape of y to (n_samples, ), for example using ravel().\n",
      "  y = column_or_1d(y, warn=True)\n"
     ]
    },
    {
     "name": "stdout",
     "output_type": "stream",
     "text": [
      "0.1116\n",
      "0.8932\n",
      "0.9332\n",
      "0.9151\n",
      "0.9151\n",
      "0.9151\n",
      "0.9151\n",
      "0.9151\n"
     ]
    },
    {
     "data": {
      "image/png": "[encoded data removed]",
      "text/plain": [
       "<Figure size 432x288 with 1 Axes>"
      ]
     },
     "metadata": {},
     "output_type": "display_data"
    }
   ],
   "source": [
    "mnist_scores2 = []\n",
    "for i in [10**-10, 10**-8, 10**-6, 10**-4, 10**4, 10**6, 10**8, 10**10]:\n",
    "    data = shuffled_data[:10000]\n",
    "    labels = shuffled_labels[:10000]\n",
    "    mnist_clf = SVC(kernel = 'linear', C = i)\n",
    "    mnist_clf = mnist_clf.fit(data, labels)\n",
    "    mnist_pred = mnist_clf.predict(validation_data)\n",
    "    mnist_score = accuracy_score(validation_labels, mnist_pred)\n",
    "    mnist_scores2 += [mnist_score]\n",
    "    print(mnist_score)\n",
    "plt.plot([-10**-10, -10**-8, -10**-6, -10**-4, 10**4, 10**6, 10**8, 10**10],mnist_scores2)\n",
    "plt.show()"
   ]
  },
  {
   "cell_type": "code",
   "execution_count": 10,
   "metadata": {},
   "outputs": [
    {
     "name": "stderr",
     "output_type": "stream",
     "text": [
      "C:\\ProgramData\\Anaconda3\\lib\\site-packages\\sklearn\\utils\\validation.py:578: DataConversionWarning: A column-vector y was passed when a 1d array was expected. Please change the shape of y to (n_samples, ), for example using ravel().\n",
      "  y = column_or_1d(y, warn=True)\n"
     ]
    },
    {
     "name": "stdout",
     "output_type": "stream",
     "text": [
      "0.7227053140096619\n",
      "0.7111111111111111\n",
      "0.7040618955512572\n",
      "0.7156673114119922\n",
      "0.6963249516441006\n",
      "validation score of C =  1e-10  is  0.7099741167456245\n",
      "0.7227053140096619\n",
      "0.7111111111111111\n",
      "0.7040618955512572\n",
      "0.7156673114119922\n",
      "0.6963249516441006\n",
      "validation score of C =  1e-08  is  0.7099741167456245\n",
      "0.7227053140096619\n",
      "0.7111111111111111\n",
      "0.7040618955512572\n",
      "0.7156673114119922\n",
      "0.6963249516441006\n",
      "validation score of C =  1e-06  is  0.7099741167456245\n",
      "0.7323671497584541\n",
      "0.714975845410628\n",
      "0.7108317214700194\n",
      "0.7224371373307543\n",
      "0.7040618955512572\n",
      "validation score of C =  0.0001  is  0.7169347499042227\n",
      "0.7574879227053141\n",
      "0.7545893719806763\n",
      "0.7456479690522244\n",
      "0.7620889748549323\n",
      "0.7398452611218569\n",
      "validation score of C =  0.001  is  0.7519318999430008\n",
      "0.7758454106280194\n",
      "0.782608695652174\n",
      "0.7804642166344294\n",
      "0.7911025145067698\n",
      "0.7640232108317214\n",
      "validation score of C =  0.01  is  0.7788088096506228\n",
      "0.8038647342995169\n",
      "0.7942028985507247\n",
      "0.7862669245647969\n",
      "0.8075435203094777\n",
      "0.7794970986460348\n",
      "validation score of C =  0.1  is  0.7942750352741103\n",
      "0.8038647342995169\n",
      "0.7990338164251207\n",
      "0.7949709864603481\n",
      "0.8133462282398453\n",
      "0.7891682785299806\n",
      "validation score of C =  1  is  0.8000768087909623\n",
      "0.8057971014492754\n",
      "0.8009661835748793\n",
      "0.7978723404255319\n",
      "0.8172147001934236\n",
      "0.7901353965183753\n",
      "validation score of C =  10  is  0.802397144432297\n",
      "0.8048309178743961\n",
      "0.8048309178743961\n",
      "0.8007736943907157\n",
      "0.8172147001934236\n",
      "0.7891682785299806\n",
      "validation score of C =  100  is  0.8033637017725825\n"
     ]
    }
   ],
   "source": [
    "from sklearn.svm import SVC\n",
    "from sklearn.metrics import accuracy_score\n",
    "spam_data = io.loadmat(\"data/spam_data.mat\")\n",
    "shuffled_spam_data,shuffled_spam_labels = shuffle(spam_data['training_data'],spam_data['training_labels'])\n",
    "data1, data2, data3, data4, data5 = np.array_split(shuffled_spam_data,5)\n",
    "label1, label2, label3, label4, label5 = np.array_split(shuffled_spam_labels,5)\n",
    "\n",
    "\n",
    "\n",
    "\n",
    "spam_errors = []\n",
    "for i in [10**-10, 10**-8, 10**-6, 10**-4, 10**-3, 10**-2, 10**-1, 10**0, 10**1, 10**2]:\n",
    "    spam_scores = []\n",
    "    for j in np.arange(5):\n",
    "        datas=[data1,data2,data3,data4,data5]\n",
    "        labels = [label1,label2,label3,label4,label5]\n",
    "        validation_data = datas[j]\n",
    "        validation_labels = labels[j]\n",
    "        labels.pop(j)\n",
    "        datas.pop(j)\n",
    "        training_data = np.concatenate(datas)\n",
    "        training_labels = np.concatenate(labels)\n",
    "        spam_clf = SVC(kernel = 'linear',C = i)\n",
    "        spam_clf = spam_clf.fit(training_data, training_labels)\n",
    "        spam_pred = spam_clf.predict(validation_data)\n",
    "        spam_score = accuracy_score(validation_labels, spam_pred)\n",
    "        spam_scores += [spam_score]\n",
    "        print(spam_score)\n",
    "    print(\"validation score of C = \", i, \" is \", np.average(spam_scores))"
   ]
  },
  {
   "cell_type": "code",
   "execution_count": 6,
   "metadata": {},
   "outputs": [],
   "source": [
    "# A code snippet to help you save your results into a kaggle accepted csv\n",
    "import pandas as pd\n",
    "import numpy as np\n",
    "\n",
    "# Usage results_to_csv(clf.predict(X_test))\n",
    "def results_to_csv(y_test,name):\n",
    "    y_test = y_test.astype(int)\n",
    "    df = pd.DataFrame({'Category': y_test})\n",
    "    df.index += 1  # Ensures that the index starts at 1. \n",
    "    df.to_csv('%ssubmission.csv' % name, index_label='Id')"
   ]
  },
  {
   "cell_type": "code",
   "execution_count": 36,
   "metadata": {},
   "outputs": [
    {
     "name": "stderr",
     "output_type": "stream",
     "text": [
      "C:\\ProgramData\\Anaconda3\\lib\\site-packages\\sklearn\\utils\\validation.py:578: DataConversionWarning: A column-vector y was passed when a 1d array was expected. Please change the shape of y to (n_samples, ), for example using ravel().\n",
      "  y = column_or_1d(y, warn=True)\n"
     ]
    }
   ],
   "source": [
    "data = shuffled_data\n",
    "labels = shuffled_labels\n",
    "mnist_clf = SVC(kernel = 'linear', C = 10**-6)\n",
    "mnist_clf.fit(data, labels)\n",
    "mnist_pred = mnist_clf.predict(mnist_data['test_data'])\n",
    "results_to_csv(mnist_pred,\"mnist\")"
   ]
  },
  {
   "cell_type": "code",
   "execution_count": 8,
   "metadata": {},
   "outputs": [
    {
     "name": "stderr",
     "output_type": "stream",
     "text": [
      "C:\\ProgramData\\Anaconda3\\lib\\site-packages\\sklearn\\utils\\validation.py:578: DataConversionWarning: A column-vector y was passed when a 1d array was expected. Please change the shape of y to (n_samples, ), for example using ravel().\n",
      "  y = column_or_1d(y, warn=True)\n"
     ]
    }
   ],
   "source": [
    "from sklearn.svm import SVC\n",
    "data = shuffled_spam_data[:2000]\n",
    "labels = shuffled_spam_labels[:2000]\n",
    "spam_clf = SVC(kernel = 'linear')\n",
    "spam_clf.fit(data, labels)\n",
    "spam_pred = spam_clf.predict(spam_data['test_data'])\n",
    "results_to_csv(spam_pred,\"spam\")"
   ]
  },
  {
   "cell_type": "code",
   "execution_count": 8,
   "metadata": {},
   "outputs": [
    {
     "name": "stderr",
     "output_type": "stream",
     "text": [
      "C:\\ProgramData\\Anaconda3\\lib\\site-packages\\sklearn\\utils\\validation.py:578: DataConversionWarning: A column-vector y was passed when a 1d array was expected. Please change the shape of y to (n_samples, ), for example using ravel().\n",
      "  y = column_or_1d(y, warn=True)\n"
     ]
    }
   ],
   "source": [
    "from sklearn.svm import SVC\n",
    "data = shuffled_cifar10_data[:2000]\n",
    "labels = shuffled_cifar10_labels[:2000]\n",
    "cifar10_clf = SVC(kernel = 'linear', C = 10**-6)\n",
    "cifar10_clf.fit(data, labels)\n",
    "cifar10_pred = cifar10_clf.predict(cifar10_data['test_data'])\n",
    "results_to_csv(cifar10_pred,\"cifar10\")"
   ]
  },
  {
   "cell_type": "code",
   "execution_count": null,
   "metadata": {},
   "outputs": [],
   "source": []
  }
 ],
 "metadata": {
  "kernelspec": {
   "display_name": "Python 3",
   "language": "python",
   "name": "python3"
  },
  "language_info": {
   "codemirror_mode": {
    "name": "ipython",
    "version": 3
   },
   "file_extension": ".py",
   "mimetype": "text/x-python",
   "name": "python",
   "nbconvert_exporter": "python",
   "pygments_lexer": "ipython3",
   "version": "3.6.5"
  }
 },
 "nbformat": 4,
 "nbformat_minor": 2
}
