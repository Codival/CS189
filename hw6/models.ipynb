{
 "cells": [
  {
   "cell_type": "code",
   "execution_count": 2,
   "metadata": {},
   "outputs": [
    {
     "name": "stderr",
     "output_type": "stream",
     "text": [
      "\r",
      "  0%|                                                                                                                                      | 0/25000 [00:00<?, ?it/s]"
     ]
    },
    {
     "name": "stdout",
     "output_type": "stream",
     "text": [
      "Training higgs_1 neural network on higgs with SGD for 20 epochs...\n",
      "Optimizer:\n",
      "{'name': 'SGD', 'lr': 0.1, 'lr_scheduler': 'constant', 'lr_decay': None, 'stage_length': None, 'staircase': None, 'clip_norm': 1, 'momentum': 0}\n"
     ]
    },
    {
     "name": "stderr",
     "output_type": "stream",
     "text": [
      "100%|█████████████████████████████████████████████████████████████████████████████████████████████████████████████████████████| 25000/25000 [00:57<00:00, 434.60it/s]\n",
      "  0%|                                                                                                                                      | 0/25000 [00:00<?, ?it/s]"
     ]
    },
    {
     "name": "stdout",
     "output_type": "stream",
     "text": [
      "Example target: [1. 0.]\n",
      "Example prediction: [0.7018, 0.2982]\n",
      "Epoch 0 Training Loss: 0.682 Training Accuracy: 0.5486 Val Loss: 0.6269 Val Accuracy: 0.6482\n"
     ]
    },
    {
     "name": "stderr",
     "output_type": "stream",
     "text": [
      "100%|█████████████████████████████████████████████████████████████████████████████████████████████████████████████████████████| 25000/25000 [00:57<00:00, 433.33it/s]\n",
      "  0%|                                                                                                                                      | 0/25000 [00:00<?, ?it/s]"
     ]
    },
    {
     "name": "stdout",
     "output_type": "stream",
     "text": [
      "Example target: [1. 0.]\n",
      "Example prediction: [0.9708, 0.0292]\n",
      "Epoch 1 Training Loss: 0.6062 Training Accuracy: 0.6678 Val Loss: 0.5903 Val Accuracy: 0.6839\n"
     ]
    },
    {
     "name": "stderr",
     "output_type": "stream",
     "text": [
      "100%|█████████████████████████████████████████████████████████████████████████████████████████████████████████████████████████| 25000/25000 [00:59<00:00, 422.33it/s]\n",
      "  0%|                                                                                                                                      | 0/25000 [00:00<?, ?it/s]"
     ]
    },
    {
     "name": "stdout",
     "output_type": "stream",
     "text": [
      "Example target: [0. 1.]\n",
      "Example prediction: [0.4172, 0.5828]\n",
      "Epoch 2 Training Loss: 0.5878 Training Accuracy: 0.6855 Val Loss: 0.5809 Val Accuracy: 0.6888\n"
     ]
    },
    {
     "name": "stderr",
     "output_type": "stream",
     "text": [
      "100%|█████████████████████████████████████████████████████████████████████████████████████████████████████████████████████████| 25000/25000 [00:59<00:00, 417.00it/s]\n",
      "  0%|                                                                                                                            | 1/25000 [00:00<1:20:50,  5.15it/s]"
     ]
    },
    {
     "name": "stdout",
     "output_type": "stream",
     "text": [
      "Example target: [0. 1.]\n",
      "Example prediction: [0.1984, 0.8016]\n",
      "Epoch 3 Training Loss: 0.5789 Training Accuracy: 0.695 Val Loss: 0.5723 Val Accuracy: 0.6979\n"
     ]
    },
    {
     "name": "stderr",
     "output_type": "stream",
     "text": [
      "100%|█████████████████████████████████████████████████████████████████████████████████████████████████████████████████████████| 25000/25000 [00:35<00:00, 695.91it/s]\n",
      "  0%|                                                                                                                            | 1/25000 [00:00<1:22:05,  5.07it/s]"
     ]
    },
    {
     "name": "stdout",
     "output_type": "stream",
     "text": [
      "Example target: [0. 1.]\n",
      "Example prediction: [0.4944, 0.5056]\n",
      "Epoch 4 Training Loss: 0.5715 Training Accuracy: 0.7006 Val Loss: 0.5636 Val Accuracy: 0.7044\n"
     ]
    },
    {
     "name": "stderr",
     "output_type": "stream",
     "text": [
      "100%|█████████████████████████████████████████████████████████████████████████████████████████████████████████████████████████| 25000/25000 [00:35<00:00, 708.76it/s]\n",
      "  0%|                                                                                                                            | 1/25000 [00:00<1:21:39,  5.10it/s]"
     ]
    },
    {
     "name": "stdout",
     "output_type": "stream",
     "text": [
      "Example target: [1. 0.]\n",
      "Example prediction: [0.8826, 0.1174]\n",
      "Epoch 5 Training Loss: 0.5661 Training Accuracy: 0.7046 Val Loss: 0.5637 Val Accuracy: 0.7038\n"
     ]
    },
    {
     "name": "stderr",
     "output_type": "stream",
     "text": [
      "100%|█████████████████████████████████████████████████████████████████████████████████████████████████████████████████████████| 25000/25000 [00:36<00:00, 690.87it/s]\n",
      "  0%|                                                                                                                            | 1/25000 [00:00<1:20:36,  5.17it/s]"
     ]
    },
    {
     "name": "stdout",
     "output_type": "stream",
     "text": [
      "Example target: [0. 1.]\n",
      "Example prediction: [0.4236, 0.5764]\n",
      "Epoch 6 Training Loss: 0.5622 Training Accuracy: 0.7075 Val Loss: 0.5708 Val Accuracy: 0.7071\n"
     ]
    },
    {
     "name": "stderr",
     "output_type": "stream",
     "text": [
      "100%|█████████████████████████████████████████████████████████████████████████████████████████████████████████████████████████| 25000/25000 [00:35<00:00, 707.69it/s]\n",
      "  0%|                                                                                                                            | 1/25000 [00:00<1:23:31,  4.99it/s]"
     ]
    },
    {
     "name": "stdout",
     "output_type": "stream",
     "text": [
      "Example target: [1. 0.]\n",
      "Example prediction: [0.831, 0.169]\n",
      "Epoch 7 Training Loss: 0.5591 Training Accuracy: 0.7106 Val Loss: 0.5588 Val Accuracy: 0.7053\n"
     ]
    },
    {
     "name": "stderr",
     "output_type": "stream",
     "text": [
      "100%|█████████████████████████████████████████████████████████████████████████████████████████████████████████████████████████| 25000/25000 [00:35<00:00, 701.90it/s]\n",
      "  0%|                                                                                                                            | 1/25000 [00:00<1:16:52,  5.42it/s]"
     ]
    },
    {
     "name": "stdout",
     "output_type": "stream",
     "text": [
      "Example target: [1. 0.]\n",
      "Example prediction: [0.6816, 0.3184]\n",
      "Epoch 8 Training Loss: 0.5562 Training Accuracy: 0.712 Val Loss: 0.558 Val Accuracy: 0.7108\n"
     ]
    },
    {
     "name": "stderr",
     "output_type": "stream",
     "text": [
      "100%|█████████████████████████████████████████████████████████████████████████████████████████████████████████████████████████| 25000/25000 [00:35<00:00, 701.64it/s]\n",
      "  0%|                                                                                                                            | 1/25000 [00:00<1:16:27,  5.45it/s]"
     ]
    },
    {
     "name": "stdout",
     "output_type": "stream",
     "text": [
      "Example target: [1. 0.]\n",
      "Example prediction: [0.1401, 0.8599]\n",
      "Epoch 9 Training Loss: 0.5537 Training Accuracy: 0.714 Val Loss: 0.5576 Val Accuracy: 0.7101\n"
     ]
    },
    {
     "name": "stderr",
     "output_type": "stream",
     "text": [
      "100%|█████████████████████████████████████████████████████████████████████████████████████████████████████████████████████████| 25000/25000 [00:35<00:00, 704.63it/s]\n",
      "  0%|                                                                                                                            | 1/25000 [00:00<1:19:59,  5.21it/s]"
     ]
    },
    {
     "name": "stdout",
     "output_type": "stream",
     "text": [
      "Example target: [0. 1.]\n",
      "Example prediction: [0.0826, 0.9174]\n",
      "Epoch 10 Training Loss: 0.5516 Training Accuracy: 0.7159 Val Loss: 0.5624 Val Accuracy: 0.7118\n"
     ]
    },
    {
     "name": "stderr",
     "output_type": "stream",
     "text": [
      "100%|█████████████████████████████████████████████████████████████████████████████████████████████████████████████████████████| 25000/25000 [00:34<00:00, 714.50it/s]\n",
      "  0%|                                                                                                                                      | 0/25000 [00:00<?, ?it/s]"
     ]
    },
    {
     "name": "stdout",
     "output_type": "stream",
     "text": [
      "Example target: [1. 0.]\n",
      "Example prediction: [0.4326, 0.5674]\n",
      "Epoch 11 Training Loss: 0.5493 Training Accuracy: 0.7166 Val Loss: 0.5426 Val Accuracy: 0.7195\n"
     ]
    },
    {
     "name": "stderr",
     "output_type": "stream",
     "text": [
      "100%|█████████████████████████████████████████████████████████████████████████████████████████████████████████████████████████| 25000/25000 [00:35<00:00, 708.65it/s]\n",
      "  0%|                                                                                                                                      | 0/25000 [00:00<?, ?it/s]"
     ]
    },
    {
     "name": "stdout",
     "output_type": "stream",
     "text": [
      "Example target: [0. 1.]\n",
      "Example prediction: [0.2109, 0.7891]\n",
      "Epoch 12 Training Loss: 0.5476 Training Accuracy: 0.718 Val Loss: 0.5502 Val Accuracy: 0.7129\n"
     ]
    },
    {
     "name": "stderr",
     "output_type": "stream",
     "text": [
      "100%|█████████████████████████████████████████████████████████████████████████████████████████████████████████████████████████| 25000/25000 [00:35<00:00, 706.74it/s]\n",
      "  0%|                                                                                                                                      | 0/25000 [00:00<?, ?it/s]"
     ]
    },
    {
     "name": "stdout",
     "output_type": "stream",
     "text": [
      "Example target: [1. 0.]\n",
      "Example prediction: [0.8208, 0.1792]\n",
      "Epoch 13 Training Loss: 0.5457 Training Accuracy: 0.7197 Val Loss: 0.5499 Val Accuracy: 0.7162\n"
     ]
    },
    {
     "name": "stderr",
     "output_type": "stream",
     "text": [
      "100%|█████████████████████████████████████████████████████████████████████████████████████████████████████████████████████████| 25000/25000 [00:35<00:00, 711.39it/s]\n",
      "  0%|                                                                                                                                      | 0/25000 [00:00<?, ?it/s]"
     ]
    },
    {
     "name": "stdout",
     "output_type": "stream",
     "text": [
      "Example target: [0. 1.]\n",
      "Example prediction: [0.139, 0.861]\n",
      "Epoch 14 Training Loss: 0.5443 Training Accuracy: 0.722 Val Loss: 0.546 Val Accuracy: 0.7177\n"
     ]
    },
    {
     "name": "stderr",
     "output_type": "stream",
     "text": [
      "100%|█████████████████████████████████████████████████████████████████████████████████████████████████████████████████████████| 25000/25000 [00:35<00:00, 698.49it/s]\n",
      "  0%|                                                                                                                            | 1/25000 [00:00<1:19:47,  5.22it/s]"
     ]
    },
    {
     "name": "stdout",
     "output_type": "stream",
     "text": [
      "Example target: [0. 1.]\n",
      "Example prediction: [0.1264, 0.8736]\n",
      "Epoch 15 Training Loss: 0.5427 Training Accuracy: 0.7228 Val Loss: 0.5562 Val Accuracy: 0.7113\n"
     ]
    },
    {
     "name": "stderr",
     "output_type": "stream",
     "text": [
      "100%|█████████████████████████████████████████████████████████████████████████████████████████████████████████████████████████| 25000/25000 [00:35<00:00, 698.96it/s]\n",
      "  0%|                                                                                                                            | 1/25000 [00:00<1:16:51,  5.42it/s]"
     ]
    },
    {
     "name": "stdout",
     "output_type": "stream",
     "text": [
      "Example target: [1. 0.]\n",
      "Example prediction: [0.2422, 0.7578]\n",
      "Epoch 16 Training Loss: 0.5418 Training Accuracy: 0.7238 Val Loss: 0.558 Val Accuracy: 0.7182\n"
     ]
    },
    {
     "name": "stderr",
     "output_type": "stream",
     "text": [
      "100%|█████████████████████████████████████████████████████████████████████████████████████████████████████████████████████████| 25000/25000 [00:35<00:00, 713.61it/s]\n",
      "  0%|                                                                                                                            | 1/25000 [00:00<1:16:27,  5.45it/s]"
     ]
    },
    {
     "name": "stdout",
     "output_type": "stream",
     "text": [
      "Example target: [0. 1.]\n",
      "Example prediction: [0.4573, 0.5427]\n",
      "Epoch 17 Training Loss: 0.5406 Training Accuracy: 0.7243 Val Loss: 0.5421 Val Accuracy: 0.7211\n"
     ]
    },
    {
     "name": "stderr",
     "output_type": "stream",
     "text": [
      "100%|█████████████████████████████████████████████████████████████████████████████████████████████████████████████████████████| 25000/25000 [00:35<00:00, 707.28it/s]\n",
      "  0%|                                                                                                                            | 1/25000 [00:00<1:18:32,  5.31it/s]"
     ]
    },
    {
     "name": "stdout",
     "output_type": "stream",
     "text": [
      "Example target: [1. 0.]\n",
      "Example prediction: [0.8468, 0.1532]\n",
      "Epoch 18 Training Loss: 0.5401 Training Accuracy: 0.7252 Val Loss: 0.5394 Val Accuracy: 0.7218\n"
     ]
    },
    {
     "name": "stderr",
     "output_type": "stream",
     "text": [
      "100%|█████████████████████████████████████████████████████████████████████████████████████████████████████████████████████████| 25000/25000 [00:35<00:00, 706.46it/s]\n"
     ]
    },
    {
     "name": "stdout",
     "output_type": "stream",
     "text": [
      "Example target: [0. 1.]\n",
      "Example prediction: [0.3698, 0.6302]\n",
      "Epoch 19 Training Loss: 0.5392 Training Accuracy: 0.7249 Val Loss: 0.5404 Val Accuracy: 0.7231\n"
     ]
    }
   ],
   "source": [
    "%run -i train_ffnn.py"
   ]
  },
  {
   "cell_type": "code",
   "execution_count": 8,
   "metadata": {},
   "outputs": [
    {
     "name": "stderr",
     "output_type": "stream",
     "text": [
      " 21%|███████████████████████████▏                                                                                                   | 15/70 [00:00<00:00, 149.97it/s]"
     ]
    },
    {
     "name": "stdout",
     "output_type": "stream",
     "text": [
      "Training sine1 neural network on sinewave with SGD for 100 epochs...\n",
      "Optimizer:\n",
      "{'name': 'SGD', 'lr': 0.01, 'lr_scheduler': 'exponential', 'lr_decay': 0.99, 'stage_length': 1000, 'staircase': True, 'clip_norm': 1.0, 'momentum': 0.9}\n"
     ]
    },
    {
     "name": "stderr",
     "output_type": "stream",
     "text": [
      "100%|███████████████████████████████████████████████████████████████████████████████████████████████████████████████████████████████| 70/70 [00:00<00:00, 152.40it/s]\n",
      " 23%|█████████████████████████████                                                                                                  | 16/70 [00:00<00:00, 159.60it/s]"
     ]
    },
    {
     "name": "stdout",
     "output_type": "stream",
     "text": [
      "Example target: [-0.8225224]\n",
      "Example prediction: [-0.765]\n",
      "Epoch 0 Training Loss: 0.2221 Training Accuracy: 0.7779 Val Loss: 0.0349 Val Accuracy: 0.9651\n"
     ]
    },
    {
     "name": "stderr",
     "output_type": "stream",
     "text": [
      "100%|███████████████████████████████████████████████████████████████████████████████████████████████████████████████████████████████| 70/70 [00:00<00:00, 142.98it/s]\n",
      " 20%|█████████████████████████▍                                                                                                     | 14/70 [00:00<00:00, 135.80it/s]"
     ]
    },
    {
     "name": "stdout",
     "output_type": "stream",
     "text": [
      "Example target: [-0.20293934]\n",
      "Example prediction: [-0.1965]\n",
      "Epoch 1 Training Loss: 0.0193 Training Accuracy: 0.9807 Val Loss: 0.0033 Val Accuracy: 0.9967\n"
     ]
    },
    {
     "name": "stderr",
     "output_type": "stream",
     "text": [
      "100%|███████████████████████████████████████████████████████████████████████████████████████████████████████████████████████████████| 70/70 [00:00<00:00, 139.41it/s]\n",
      " 24%|██████████████████████████████▊                                                                                                | 17/70 [00:00<00:00, 162.60it/s]"
     ]
    },
    {
     "name": "stdout",
     "output_type": "stream",
     "text": [
      "Example target: [-0.9699504]\n",
      "Example prediction: [-0.9825]\n",
      "Epoch 2 Training Loss: 0.0016 Training Accuracy: 0.9984 Val Loss: 0.0009 Val Accuracy: 0.9991\n"
     ]
    },
    {
     "name": "stderr",
     "output_type": "stream",
     "text": [
      "100%|███████████████████████████████████████████████████████████████████████████████████████████████████████████████████████████████| 70/70 [00:00<00:00, 153.92it/s]\n",
      " 24%|██████████████████████████████▊                                                                                                | 17/70 [00:00<00:00, 163.28it/s]"
     ]
    },
    {
     "name": "stdout",
     "output_type": "stream",
     "text": [
      "Example target: [-0.0811242]\n",
      "Example prediction: [-0.0577]\n",
      "Epoch 3 Training Loss: 0.0007 Training Accuracy: 0.9993 Val Loss: 0.0005 Val Accuracy: 0.9995\n"
     ]
    },
    {
     "name": "stderr",
     "output_type": "stream",
     "text": [
      "100%|███████████████████████████████████████████████████████████████████████████████████████████████████████████████████████████████| 70/70 [00:00<00:00, 106.89it/s]\n",
      " 20%|█████████████████████████▍                                                                                                     | 14/70 [00:00<00:00, 133.66it/s]"
     ]
    },
    {
     "name": "stdout",
     "output_type": "stream",
     "text": [
      "Example target: [-0.13599612]\n",
      "Example prediction: [-0.1352]\n",
      "Epoch 4 Training Loss: 0.0005 Training Accuracy: 0.9995 Val Loss: 0.0004 Val Accuracy: 0.9996\n"
     ]
    },
    {
     "name": "stderr",
     "output_type": "stream",
     "text": [
      "100%|███████████████████████████████████████████████████████████████████████████████████████████████████████████████████████████████| 70/70 [00:00<00:00, 144.68it/s]\n",
      " 21%|███████████████████████████▏                                                                                                   | 15/70 [00:00<00:00, 140.38it/s]"
     ]
    },
    {
     "name": "stdout",
     "output_type": "stream",
     "text": [
      "Example target: [-0.99860057]\n",
      "Example prediction: [-0.9989]\n",
      "Epoch 5 Training Loss: 0.0003 Training Accuracy: 0.9997 Val Loss: 0.0003 Val Accuracy: 0.9997\n"
     ]
    },
    {
     "name": "stderr",
     "output_type": "stream",
     "text": [
      "100%|███████████████████████████████████████████████████████████████████████████████████████████████████████████████████████████████| 70/70 [00:00<00:00, 130.31it/s]\n",
      " 23%|█████████████████████████████                                                                                                  | 16/70 [00:00<00:00, 156.73it/s]"
     ]
    },
    {
     "name": "stdout",
     "output_type": "stream",
     "text": [
      "Example target: [-0.48931544]\n",
      "Example prediction: [-0.4665]\n",
      "Epoch 6 Training Loss: 0.0003 Training Accuracy: 0.9997 Val Loss: 0.0003 Val Accuracy: 0.9997\n"
     ]
    },
    {
     "name": "stderr",
     "output_type": "stream",
     "text": [
      "100%|███████████████████████████████████████████████████████████████████████████████████████████████████████████████████████████████| 70/70 [00:00<00:00, 154.89it/s]\n",
      " 24%|██████████████████████████████▊                                                                                                | 17/70 [00:00<00:00, 169.02it/s]"
     ]
    },
    {
     "name": "stdout",
     "output_type": "stream",
     "text": [
      "Example target: [-0.27817745]\n",
      "Example prediction: [-0.2841]\n",
      "Epoch 7 Training Loss: 0.0003 Training Accuracy: 0.9997 Val Loss: 0.0002 Val Accuracy: 0.9998\n"
     ]
    },
    {
     "name": "stderr",
     "output_type": "stream",
     "text": [
      "100%|███████████████████████████████████████████████████████████████████████████████████████████████████████████████████████████████| 70/70 [00:00<00:00, 140.89it/s]\n",
      " 23%|█████████████████████████████                                                                                                  | 16/70 [00:00<00:00, 152.04it/s]"
     ]
    },
    {
     "name": "stdout",
     "output_type": "stream",
     "text": [
      "Example target: [-0.77269534]\n",
      "Example prediction: [-0.7515]\n",
      "Epoch 8 Training Loss: 0.0002 Training Accuracy: 0.9998 Val Loss: 0.0002 Val Accuracy: 0.9998\n"
     ]
    },
    {
     "name": "stderr",
     "output_type": "stream",
     "text": [
      "100%|███████████████████████████████████████████████████████████████████████████████████████████████████████████████████████████████| 70/70 [00:00<00:00, 157.59it/s]\n",
      " 19%|███████████████████████▌                                                                                                       | 13/70 [00:00<00:00, 128.08it/s]"
     ]
    },
    {
     "name": "stdout",
     "output_type": "stream",
     "text": [
      "Example target: [-0.22936775]\n",
      "Example prediction: [-0.2414]\n",
      "Epoch 9 Training Loss: 0.0002 Training Accuracy: 0.9998 Val Loss: 0.0002 Val Accuracy: 0.9998\n"
     ]
    },
    {
     "name": "stderr",
     "output_type": "stream",
     "text": [
      "100%|███████████████████████████████████████████████████████████████████████████████████████████████████████████████████████████████| 70/70 [00:00<00:00, 137.02it/s]\n",
      " 23%|█████████████████████████████                                                                                                  | 16/70 [00:00<00:00, 156.77it/s]"
     ]
    },
    {
     "name": "stdout",
     "output_type": "stream",
     "text": [
      "Example target: [-0.77418184]\n",
      "Example prediction: [-0.7518]\n",
      "Epoch 10 Training Loss: 0.0002 Training Accuracy: 0.9998 Val Loss: 0.0002 Val Accuracy: 0.9998\n"
     ]
    },
    {
     "name": "stderr",
     "output_type": "stream",
     "text": [
      "100%|███████████████████████████████████████████████████████████████████████████████████████████████████████████████████████████████| 70/70 [00:00<00:00, 141.99it/s]\n",
      " 20%|█████████████████████████▍                                                                                                     | 14/70 [00:00<00:00, 136.52it/s]"
     ]
    },
    {
     "name": "stdout",
     "output_type": "stream",
     "text": [
      "Example target: [-0.72194742]\n",
      "Example prediction: [-0.714]\n",
      "Epoch 11 Training Loss: 0.0002 Training Accuracy: 0.9998 Val Loss: 0.0002 Val Accuracy: 0.9998\n"
     ]
    },
    {
     "name": "stderr",
     "output_type": "stream",
     "text": [
      "100%|███████████████████████████████████████████████████████████████████████████████████████████████████████████████████████████████| 70/70 [00:00<00:00, 151.69it/s]\n",
      " 20%|█████████████████████████▍                                                                                                     | 14/70 [00:00<00:00, 133.61it/s]"
     ]
    },
    {
     "name": "stdout",
     "output_type": "stream",
     "text": [
      "Example target: [-0.57177799]\n",
      "Example prediction: [-0.5859]\n",
      "Epoch 12 Training Loss: 0.0002 Training Accuracy: 0.9998 Val Loss: 0.0002 Val Accuracy: 0.9998\n"
     ]
    },
    {
     "name": "stderr",
     "output_type": "stream",
     "text": [
      "100%|███████████████████████████████████████████████████████████████████████████████████████████████████████████████████████████████| 70/70 [00:00<00:00, 142.62it/s]\n",
      " 20%|█████████████████████████▍                                                                                                     | 14/70 [00:00<00:00, 138.52it/s]"
     ]
    },
    {
     "name": "stdout",
     "output_type": "stream",
     "text": [
      "Example target: [-0.36475829]\n",
      "Example prediction: [-0.3542]\n",
      "Epoch 13 Training Loss: 0.0002 Training Accuracy: 0.9998 Val Loss: 0.0001 Val Accuracy: 0.9999\n"
     ]
    },
    {
     "name": "stderr",
     "output_type": "stream",
     "text": [
      "100%|███████████████████████████████████████████████████████████████████████████████████████████████████████████████████████████████| 70/70 [00:00<00:00, 147.54it/s]\n",
      " 23%|█████████████████████████████                                                                                                  | 16/70 [00:00<00:00, 156.82it/s]"
     ]
    },
    {
     "name": "stdout",
     "output_type": "stream",
     "text": [
      "Example target: [-0.97780671]\n",
      "Example prediction: [-0.9837]\n",
      "Epoch 14 Training Loss: 0.0001 Training Accuracy: 0.9999 Val Loss: 0.0001 Val Accuracy: 0.9999\n"
     ]
    },
    {
     "name": "stderr",
     "output_type": "stream",
     "text": [
      "100%|███████████████████████████████████████████████████████████████████████████████████████████████████████████████████████████████| 70/70 [00:00<00:00, 153.36it/s]\n",
      " 21%|███████████████████████████▏                                                                                                   | 15/70 [00:00<00:00, 140.34it/s]"
     ]
    },
    {
     "name": "stdout",
     "output_type": "stream",
     "text": [
      "Example target: [0.2883484]\n",
      "Example prediction: [0.2872]\n",
      "Epoch 15 Training Loss: 0.0001 Training Accuracy: 0.9999 Val Loss: 0.0001 Val Accuracy: 0.9999\n"
     ]
    },
    {
     "name": "stderr",
     "output_type": "stream",
     "text": [
      "100%|███████████████████████████████████████████████████████████████████████████████████████████████████████████████████████████████| 70/70 [00:00<00:00, 137.56it/s]\n",
      " 19%|███████████████████████▌                                                                                                       | 13/70 [00:00<00:00, 129.99it/s]"
     ]
    },
    {
     "name": "stdout",
     "output_type": "stream",
     "text": [
      "Example target: [0.05848332]\n",
      "Example prediction: [0.0648]\n",
      "Epoch 16 Training Loss: 0.0001 Training Accuracy: 0.9999 Val Loss: 0.0001 Val Accuracy: 0.9999\n"
     ]
    },
    {
     "name": "stderr",
     "output_type": "stream",
     "text": [
      "100%|███████████████████████████████████████████████████████████████████████████████████████████████████████████████████████████████| 70/70 [00:00<00:00, 139.19it/s]\n",
      " 23%|█████████████████████████████                                                                                                  | 16/70 [00:00<00:00, 149.84it/s]"
     ]
    },
    {
     "name": "stdout",
     "output_type": "stream",
     "text": [
      "Example target: [-0.54083153]\n",
      "Example prediction: [-0.5339]\n",
      "Epoch 17 Training Loss: 0.0001 Training Accuracy: 0.9999 Val Loss: 0.0001 Val Accuracy: 0.9999\n"
     ]
    },
    {
     "name": "stderr",
     "output_type": "stream",
     "text": [
      "100%|███████████████████████████████████████████████████████████████████████████████████████████████████████████████████████████████| 70/70 [00:00<00:00, 149.39it/s]\n",
      " 16%|███████████████████▉                                                                                                           | 11/70 [00:00<00:00, 106.94it/s]"
     ]
    },
    {
     "name": "stdout",
     "output_type": "stream",
     "text": [
      "Example target: [-0.95461359]\n",
      "Example prediction: [-0.9623]\n",
      "Epoch 18 Training Loss: 0.0001 Training Accuracy: 0.9999 Val Loss: 0.0001 Val Accuracy: 0.9999\n"
     ]
    },
    {
     "name": "stderr",
     "output_type": "stream",
     "text": [
      "100%|███████████████████████████████████████████████████████████████████████████████████████████████████████████████████████████████| 70/70 [00:00<00:00, 135.53it/s]\n",
      " 23%|█████████████████████████████                                                                                                  | 16/70 [00:00<00:00, 155.11it/s]"
     ]
    },
    {
     "name": "stdout",
     "output_type": "stream",
     "text": [
      "Example target: [-0.96186129]\n",
      "Example prediction: [-0.9679]\n",
      "Epoch 19 Training Loss: 0.0001 Training Accuracy: 0.9999 Val Loss: 0.0001 Val Accuracy: 0.9999\n"
     ]
    },
    {
     "name": "stderr",
     "output_type": "stream",
     "text": [
      "100%|███████████████████████████████████████████████████████████████████████████████████████████████████████████████████████████████| 70/70 [00:00<00:00, 151.19it/s]\n",
      " 20%|█████████████████████████▍                                                                                                     | 14/70 [00:00<00:00, 133.47it/s]"
     ]
    },
    {
     "name": "stdout",
     "output_type": "stream",
     "text": [
      "Example target: [-0.22029482]\n",
      "Example prediction: [-0.2309]\n",
      "Epoch 20 Training Loss: 0.0001 Training Accuracy: 0.9999 Val Loss: 0.0001 Val Accuracy: 0.9999\n"
     ]
    },
    {
     "name": "stderr",
     "output_type": "stream",
     "text": [
      "100%|███████████████████████████████████████████████████████████████████████████████████████████████████████████████████████████████| 70/70 [00:00<00:00, 147.42it/s]\n",
      " 13%|████████████████▌                                                                                                                | 9/70 [00:00<00:00, 83.89it/s]"
     ]
    },
    {
     "name": "stdout",
     "output_type": "stream",
     "text": [
      "Example target: [-0.6098651]\n",
      "Example prediction: [-0.6237]\n",
      "Epoch 21 Training Loss: 0.0001 Training Accuracy: 0.9999 Val Loss: 0.0001 Val Accuracy: 0.9999\n"
     ]
    },
    {
     "name": "stderr",
     "output_type": "stream",
     "text": [
      "100%|████████████████████████████████████████████████████████████████████████████████████████████████████████████████████████████████| 70/70 [00:00<00:00, 88.50it/s]\n",
      " 21%|███████████████████████████▏                                                                                                   | 15/70 [00:00<00:00, 149.87it/s]"
     ]
    },
    {
     "name": "stdout",
     "output_type": "stream",
     "text": [
      "Example target: [-0.13599612]\n",
      "Example prediction: [-0.137]\n",
      "Epoch 22 Training Loss: 0.0001 Training Accuracy: 0.9999 Val Loss: 0.0001 Val Accuracy: 0.9999\n"
     ]
    },
    {
     "name": "stderr",
     "output_type": "stream",
     "text": [
      "100%|███████████████████████████████████████████████████████████████████████████████████████████████████████████████████████████████| 70/70 [00:00<00:00, 152.31it/s]\n",
      " 44%|████████████████████████████████████████████████████████▏                                                                      | 31/70 [00:00<00:00, 144.81it/s]"
     ]
    },
    {
     "name": "stdout",
     "output_type": "stream",
     "text": [
      "Example target: [-0.37568676]\n",
      "Example prediction: [-0.3657]\n",
      "Epoch 23 Training Loss: 0.0001 Training Accuracy: 0.9999 Val Loss: 0.0001 Val Accuracy: 0.9999\n"
     ]
    },
    {
     "name": "stderr",
     "output_type": "stream",
     "text": [
      "100%|███████████████████████████████████████████████████████████████████████████████████████████████████████████████████████████████| 70/70 [00:00<00:00, 145.45it/s]\n",
      " 20%|█████████████████████████▍                                                                                                     | 14/70 [00:00<00:00, 134.56it/s]"
     ]
    },
    {
     "name": "stdout",
     "output_type": "stream",
     "text": [
      "Example target: [-0.03001125]\n",
      "Example prediction: [-0.0116]\n",
      "Epoch 24 Training Loss: 0.0001 Training Accuracy: 0.9999 Val Loss: 0.0001 Val Accuracy: 0.9999\n"
     ]
    },
    {
     "name": "stderr",
     "output_type": "stream",
     "text": [
      "100%|███████████████████████████████████████████████████████████████████████████████████████████████████████████████████████████████| 70/70 [00:00<00:00, 140.88it/s]\n",
      " 21%|███████████████████████████▏                                                                                                   | 15/70 [00:00<00:00, 148.62it/s]"
     ]
    },
    {
     "name": "stdout",
     "output_type": "stream",
     "text": [
      "Example target: [-0.56404202]\n",
      "Example prediction: [-0.5737]\n",
      "Epoch 25 Training Loss: 0.0001 Training Accuracy: 0.9999 Val Loss: 0.0001 Val Accuracy: 0.9999\n"
     ]
    },
    {
     "name": "stderr",
     "output_type": "stream",
     "text": [
      "100%|███████████████████████████████████████████████████████████████████████████████████████████████████████████████████████████████| 70/70 [00:00<00:00, 149.58it/s]\n",
      " 19%|███████████████████████▌                                                                                                       | 13/70 [00:00<00:00, 126.38it/s]"
     ]
    },
    {
     "name": "stdout",
     "output_type": "stream",
     "text": [
      "Example target: [-0.46453891]\n",
      "Example prediction: [-0.4298]\n",
      "Epoch 26 Training Loss: 0.0001 Training Accuracy: 0.9999 Val Loss: 0.0001 Val Accuracy: 0.9999\n"
     ]
    },
    {
     "name": "stderr",
     "output_type": "stream",
     "text": [
      "100%|███████████████████████████████████████████████████████████████████████████████████████████████████████████████████████████████| 70/70 [00:00<00:00, 143.32it/s]\n",
      " 43%|██████████████████████████████████████████████████████▍                                                                        | 30/70 [00:00<00:00, 136.80it/s]"
     ]
    },
    {
     "name": "stdout",
     "output_type": "stream",
     "text": [
      "Example target: [-0.9129588]\n",
      "Example prediction: [-0.9205]\n",
      "Epoch 27 Training Loss: 0.0001 Training Accuracy: 0.9999 Val Loss: 0.0001 Val Accuracy: 0.9999\n"
     ]
    },
    {
     "name": "stderr",
     "output_type": "stream",
     "text": [
      "100%|███████████████████████████████████████████████████████████████████████████████████████████████████████████████████████████████| 70/70 [00:00<00:00, 128.20it/s]\n",
      " 16%|███████████████████▉                                                                                                           | 11/70 [00:00<00:00, 109.03it/s]"
     ]
    },
    {
     "name": "stdout",
     "output_type": "stream",
     "text": [
      "Example target: [-0.99915811]\n",
      "Example prediction: [-0.9985]\n",
      "Epoch 28 Training Loss: 0.0001 Training Accuracy: 0.9999 Val Loss: 0.0001 Val Accuracy: 0.9999\n"
     ]
    },
    {
     "name": "stderr",
     "output_type": "stream",
     "text": [
      "100%|███████████████████████████████████████████████████████████████████████████████████████████████████████████████████████████████| 70/70 [00:00<00:00, 123.32it/s]\n",
      " 36%|█████████████████████████████████████████████▎                                                                                 | 25/70 [00:00<00:00, 125.44it/s]"
     ]
    },
    {
     "name": "stdout",
     "output_type": "stream",
     "text": [
      "Example target: [-0.87653554]\n",
      "Example prediction: [-0.8799]\n",
      "Epoch 29 Training Loss: 0.0001 Training Accuracy: 0.9999 Val Loss: 0.0001 Val Accuracy: 0.9999\n"
     ]
    },
    {
     "name": "stderr",
     "output_type": "stream",
     "text": [
      "100%|███████████████████████████████████████████████████████████████████████████████████████████████████████████████████████████████| 70/70 [00:00<00:00, 123.12it/s]\n",
      " 24%|██████████████████████████████▊                                                                                                | 17/70 [00:00<00:00, 159.09it/s]"
     ]
    },
    {
     "name": "stdout",
     "output_type": "stream",
     "text": [
      "Example target: [-0.5588545]\n",
      "Example prediction: [-0.5604]\n",
      "Epoch 30 Training Loss: 0.0001 Training Accuracy: 0.9999 Val Loss: 0.0001 Val Accuracy: 0.9999\n"
     ]
    },
    {
     "name": "stderr",
     "output_type": "stream",
     "text": [
      "100%|███████████████████████████████████████████████████████████████████████████████████████████████████████████████████████████████| 70/70 [00:00<00:00, 152.52it/s]\n",
      " 23%|█████████████████████████████                                                                                                  | 16/70 [00:00<00:00, 155.00it/s]"
     ]
    },
    {
     "name": "stdout",
     "output_type": "stream",
     "text": [
      "Example target: [-0.01741738]\n",
      "Example prediction: [-0.0045]\n",
      "Epoch 31 Training Loss: 0.0001 Training Accuracy: 0.9999 Val Loss: 0.0001 Val Accuracy: 0.9999\n"
     ]
    },
    {
     "name": "stderr",
     "output_type": "stream",
     "text": [
      "100%|███████████████████████████████████████████████████████████████████████████████████████████████████████████████████████████████| 70/70 [00:00<00:00, 152.39it/s]\n",
      " 24%|██████████████████████████████▊                                                                                                | 17/70 [00:00<00:00, 165.20it/s]"
     ]
    },
    {
     "name": "stdout",
     "output_type": "stream",
     "text": [
      "Example target: [-0.96291807]\n",
      "Example prediction: [-0.9648]\n",
      "Epoch 32 Training Loss: 0.0001 Training Accuracy: 0.9999 Val Loss: 0.0001 Val Accuracy: 0.9999\n"
     ]
    },
    {
     "name": "stderr",
     "output_type": "stream",
     "text": [
      "100%|███████████████████████████████████████████████████████████████████████████████████████████████████████████████████████████████| 70/70 [00:00<00:00, 134.79it/s]\n",
      " 21%|███████████████████████████▏                                                                                                   | 15/70 [00:00<00:00, 148.41it/s]"
     ]
    },
    {
     "name": "stdout",
     "output_type": "stream",
     "text": [
      "Example target: [-0.33237191]\n",
      "Example prediction: [-0.3289]\n",
      "Epoch 33 Training Loss: 0.0001 Training Accuracy: 0.9999 Val Loss: 0.0001 Val Accuracy: 0.9999\n"
     ]
    },
    {
     "name": "stderr",
     "output_type": "stream",
     "text": [
      "100%|███████████████████████████████████████████████████████████████████████████████████████████████████████████████████████████████| 70/70 [00:00<00:00, 152.52it/s]\n",
      " 24%|██████████████████████████████▊                                                                                                | 17/70 [00:00<00:00, 163.89it/s]"
     ]
    },
    {
     "name": "stdout",
     "output_type": "stream",
     "text": [
      "Example target: [-0.9673081]\n",
      "Example prediction: [-0.9732]\n",
      "Epoch 34 Training Loss: 0.0001 Training Accuracy: 0.9999 Val Loss: 0.0001 Val Accuracy: 0.9999\n"
     ]
    },
    {
     "name": "stderr",
     "output_type": "stream",
     "text": [
      "100%|███████████████████████████████████████████████████████████████████████████████████████████████████████████████████████████████| 70/70 [00:00<00:00, 156.25it/s]\n",
      " 23%|█████████████████████████████                                                                                                  | 16/70 [00:00<00:00, 156.87it/s]"
     ]
    },
    {
     "name": "stdout",
     "output_type": "stream",
     "text": [
      "Example target: [-0.95934795]\n",
      "Example prediction: [-0.9625]\n",
      "Epoch 35 Training Loss: 0.0001 Training Accuracy: 0.9999 Val Loss: 0.0001 Val Accuracy: 0.9999\n"
     ]
    },
    {
     "name": "stderr",
     "output_type": "stream",
     "text": [
      "100%|███████████████████████████████████████████████████████████████████████████████████████████████████████████████████████████████| 70/70 [00:00<00:00, 155.90it/s]\n",
      " 21%|███████████████████████████▏                                                                                                   | 15/70 [00:00<00:00, 149.98it/s]"
     ]
    },
    {
     "name": "stdout",
     "output_type": "stream",
     "text": [
      "Example target: [-0.54231608]\n",
      "Example prediction: [-0.5334]\n",
      "Epoch 36 Training Loss: 0.0001 Training Accuracy: 0.9999 Val Loss: 0.0001 Val Accuracy: 0.9999\n"
     ]
    },
    {
     "name": "stderr",
     "output_type": "stream",
     "text": [
      "100%|███████████████████████████████████████████████████████████████████████████████████████████████████████████████████████████████| 70/70 [00:00<00:00, 108.53it/s]\n",
      " 23%|█████████████████████████████                                                                                                  | 16/70 [00:00<00:00, 149.92it/s]"
     ]
    },
    {
     "name": "stdout",
     "output_type": "stream",
     "text": [
      "Example target: [-0.47312016]\n",
      "Example prediction: [-0.4476]\n",
      "Epoch 37 Training Loss: 0.0001 Training Accuracy: 0.9999 Val Loss: 0.0001 Val Accuracy: 0.9999\n"
     ]
    },
    {
     "name": "stderr",
     "output_type": "stream",
     "text": [
      "100%|███████████████████████████████████████████████████████████████████████████████████████████████████████████████████████████████| 70/70 [00:00<00:00, 137.09it/s]\n",
      " 43%|██████████████████████████████████████████████████████▍                                                                        | 30/70 [00:00<00:00, 149.62it/s]"
     ]
    },
    {
     "name": "stdout",
     "output_type": "stream",
     "text": [
      "Example target: [0.20497968]\n",
      "Example prediction: [0.2004]\n",
      "Epoch 38 Training Loss: 0.0001 Training Accuracy: 0.9999 Val Loss: 0.0001 Val Accuracy: 0.9999\n"
     ]
    },
    {
     "name": "stderr",
     "output_type": "stream",
     "text": [
      "100%|███████████████████████████████████████████████████████████████████████████████████████████████████████████████████████████████| 70/70 [00:00<00:00, 148.63it/s]\n",
      " 16%|███████████████████▉                                                                                                           | 11/70 [00:00<00:00, 103.58it/s]"
     ]
    },
    {
     "name": "stdout",
     "output_type": "stream",
     "text": [
      "Example target: [-0.18713964]\n",
      "Example prediction: [-0.1936]\n",
      "Epoch 39 Training Loss: 0.0001 Training Accuracy: 0.9999 Val Loss: 0.0001 Val Accuracy: 0.9999\n"
     ]
    },
    {
     "name": "stderr",
     "output_type": "stream",
     "text": [
      "100%|███████████████████████████████████████████████████████████████████████████████████████████████████████████████████████████████| 70/70 [00:00<00:00, 141.42it/s]\n",
      " 23%|█████████████████████████████                                                                                                  | 16/70 [00:00<00:00, 159.85it/s]"
     ]
    },
    {
     "name": "stdout",
     "output_type": "stream",
     "text": [
      "Example target: [-0.92883234]\n",
      "Example prediction: [-0.935]\n",
      "Epoch 40 Training Loss: 0.0001 Training Accuracy: 0.9999 Val Loss: 0.0001 Val Accuracy: 0.9999\n"
     ]
    },
    {
     "name": "stderr",
     "output_type": "stream",
     "text": [
      "100%|███████████████████████████████████████████████████████████████████████████████████████████████████████████████████████████████| 70/70 [00:00<00:00, 147.68it/s]\n",
      " 23%|█████████████████████████████                                                                                                  | 16/70 [00:00<00:00, 149.51it/s]"
     ]
    },
    {
     "name": "stdout",
     "output_type": "stream",
     "text": [
      "Example target: [0.38459669]\n",
      "Example prediction: [0.3953]\n",
      "Epoch 41 Training Loss: 0.0001 Training Accuracy: 0.9999 Val Loss: 0.0001 Val Accuracy: 0.9999\n"
     ]
    },
    {
     "name": "stderr",
     "output_type": "stream",
     "text": [
      "100%|███████████████████████████████████████████████████████████████████████████████████████████████████████████████████████████████| 70/70 [00:00<00:00, 143.74it/s]\n",
      " 50%|███████████████████████████████████████████████████████████████▌                                                               | 35/70 [00:00<00:00, 168.05it/s]"
     ]
    },
    {
     "name": "stdout",
     "output_type": "stream",
     "text": [
      "Example target: [-0.04516722]\n",
      "Example prediction: [-0.0303]\n",
      "Epoch 42 Training Loss: 0.0001 Training Accuracy: 0.9999 Val Loss: 0.0001 Val Accuracy: 0.9999\n"
     ]
    },
    {
     "name": "stderr",
     "output_type": "stream",
     "text": [
      "100%|███████████████████████████████████████████████████████████████████████████████████████████████████████████████████████████████| 70/70 [00:00<00:00, 156.59it/s]\n",
      " 21%|███████████████████████████▏                                                                                                   | 15/70 [00:00<00:00, 142.77it/s]"
     ]
    },
    {
     "name": "stdout",
     "output_type": "stream",
     "text": [
      "Example target: [-0.68924862]\n",
      "Example prediction: [-0.693]\n",
      "Epoch 43 Training Loss: 0.0001 Training Accuracy: 0.9999 Val Loss: 0.0001 Val Accuracy: 0.9999\n"
     ]
    },
    {
     "name": "stderr",
     "output_type": "stream",
     "text": [
      "100%|███████████████████████████████████████████████████████████████████████████████████████████████████████████████████████████████| 70/70 [00:00<00:00, 152.18it/s]\n",
      " 17%|█████████████████████▊                                                                                                         | 12/70 [00:00<00:00, 113.08it/s]"
     ]
    },
    {
     "name": "stdout",
     "output_type": "stream",
     "text": [
      "Example target: [-0.33887107]\n",
      "Example prediction: [-0.3335]\n",
      "Epoch 44 Training Loss: 0.0001 Training Accuracy: 0.9999 Val Loss: 0.0001 Val Accuracy: 0.9999\n"
     ]
    },
    {
     "name": "stderr",
     "output_type": "stream",
     "text": [
      "100%|███████████████████████████████████████████████████████████████████████████████████████████████████████████████████████████████| 70/70 [00:00<00:00, 140.16it/s]\n",
      " 24%|██████████████████████████████▊                                                                                                | 17/70 [00:00<00:00, 168.95it/s]"
     ]
    },
    {
     "name": "stdout",
     "output_type": "stream",
     "text": [
      "Example target: [0.16037595]\n",
      "Example prediction: [0.1538]\n",
      "Epoch 45 Training Loss: 0.0001 Training Accuracy: 0.9999 Val Loss: 0.0001 Val Accuracy: 0.9999\n"
     ]
    },
    {
     "name": "stderr",
     "output_type": "stream",
     "text": [
      "100%|███████████████████████████████████████████████████████████████████████████████████████████████████████████████████████████████| 70/70 [00:00<00:00, 153.20it/s]\n",
      " 26%|████████████████████████████████▋                                                                                              | 18/70 [00:00<00:00, 170.70it/s]"
     ]
    },
    {
     "name": "stdout",
     "output_type": "stream",
     "text": [
      "Example target: [0.39043454]\n",
      "Example prediction: [0.4017]\n",
      "Epoch 46 Training Loss: 0.0001 Training Accuracy: 0.9999 Val Loss: 0.0001 Val Accuracy: 0.9999\n"
     ]
    },
    {
     "name": "stderr",
     "output_type": "stream",
     "text": [
      "100%|███████████████████████████████████████████████████████████████████████████████████████████████████████████████████████████████| 70/70 [00:00<00:00, 157.47it/s]\n",
      " 20%|█████████████████████████▍                                                                                                     | 14/70 [00:00<00:00, 135.36it/s]"
     ]
    },
    {
     "name": "stdout",
     "output_type": "stream",
     "text": [
      "Example target: [0.05882153]\n",
      "Example prediction: [0.0575]\n",
      "Epoch 47 Training Loss: 0.0001 Training Accuracy: 0.9999 Val Loss: 0.0001 Val Accuracy: 0.9999\n"
     ]
    },
    {
     "name": "stderr",
     "output_type": "stream",
     "text": [
      "100%|███████████████████████████████████████████████████████████████████████████████████████████████████████████████████████████████| 70/70 [00:00<00:00, 152.81it/s]\n",
      " 23%|█████████████████████████████                                                                                                  | 16/70 [00:00<00:00, 158.37it/s]"
     ]
    },
    {
     "name": "stdout",
     "output_type": "stream",
     "text": [
      "Example target: [-0.51157804]\n",
      "Example prediction: [-0.5076]\n",
      "Epoch 48 Training Loss: 0.0001 Training Accuracy: 0.9999 Val Loss: 0.0001 Val Accuracy: 0.9999\n"
     ]
    },
    {
     "name": "stderr",
     "output_type": "stream",
     "text": [
      "100%|███████████████████████████████████████████████████████████████████████████████████████████████████████████████████████████████| 70/70 [00:00<00:00, 150.17it/s]\n",
      " 24%|██████████████████████████████▊                                                                                                | 17/70 [00:00<00:00, 163.50it/s]"
     ]
    },
    {
     "name": "stdout",
     "output_type": "stream",
     "text": [
      "Example target: [-0.57537294]\n",
      "Example prediction: [-0.5826]\n",
      "Epoch 49 Training Loss: 0.0001 Training Accuracy: 0.9999 Val Loss: 0.0001 Val Accuracy: 0.9999\n"
     ]
    },
    {
     "name": "stderr",
     "output_type": "stream",
     "text": [
      "100%|███████████████████████████████████████████████████████████████████████████████████████████████████████████████████████████████| 70/70 [00:00<00:00, 149.69it/s]\n",
      " 17%|█████████████████████▊                                                                                                         | 12/70 [00:00<00:00, 118.75it/s]"
     ]
    },
    {
     "name": "stdout",
     "output_type": "stream",
     "text": [
      "Example target: [0.24667522]\n",
      "Example prediction: [0.2434]\n",
      "Epoch 50 Training Loss: 0.0001 Training Accuracy: 0.9999 Val Loss: 0.0001 Val Accuracy: 0.9999\n"
     ]
    },
    {
     "name": "stderr",
     "output_type": "stream",
     "text": [
      "100%|███████████████████████████████████████████████████████████████████████████████████████████████████████████████████████████████| 70/70 [00:00<00:00, 149.48it/s]\n",
      " 24%|██████████████████████████████▊                                                                                                | 17/70 [00:00<00:00, 162.63it/s]"
     ]
    },
    {
     "name": "stdout",
     "output_type": "stream",
     "text": [
      "Example target: [-0.52340597]\n",
      "Example prediction: [-0.5172]\n",
      "Epoch 51 Training Loss: 0.0001 Training Accuracy: 0.9999 Val Loss: 0.0001 Val Accuracy: 0.9999\n"
     ]
    },
    {
     "name": "stderr",
     "output_type": "stream",
     "text": [
      "100%|███████████████████████████████████████████████████████████████████████████████████████████████████████████████████████████████| 70/70 [00:00<00:00, 159.24it/s]\n",
      " 24%|██████████████████████████████▊                                                                                                | 17/70 [00:00<00:00, 165.87it/s]"
     ]
    },
    {
     "name": "stdout",
     "output_type": "stream",
     "text": [
      "Example target: [-0.30904013]\n",
      "Example prediction: [-0.3086]\n",
      "Epoch 52 Training Loss: 0.0001 Training Accuracy: 0.9999 Val Loss: 0.0001 Val Accuracy: 0.9999\n"
     ]
    },
    {
     "name": "stderr",
     "output_type": "stream",
     "text": [
      "100%|███████████████████████████████████████████████████████████████████████████████████████████████████████████████████████████████| 70/70 [00:00<00:00, 162.87it/s]\n",
      " 21%|███████████████████████████▏                                                                                                   | 15/70 [00:00<00:00, 149.87it/s]"
     ]
    },
    {
     "name": "stdout",
     "output_type": "stream",
     "text": [
      "Example target: [-0.87653554]\n",
      "Example prediction: [-0.8808]\n",
      "Epoch 53 Training Loss: 0.0001 Training Accuracy: 0.9999 Val Loss: 0.0001 Val Accuracy: 0.9999\n"
     ]
    },
    {
     "name": "stderr",
     "output_type": "stream",
     "text": [
      "100%|███████████████████████████████████████████████████████████████████████████████████████████████████████████████████████████████| 70/70 [00:00<00:00, 144.02it/s]\n",
      " 47%|███████████████████████████████████████████████████████████▊                                                                   | 33/70 [00:00<00:00, 162.69it/s]"
     ]
    },
    {
     "name": "stdout",
     "output_type": "stream",
     "text": [
      "Example target: [-0.97405943]\n",
      "Example prediction: [-0.9777]\n",
      "Epoch 54 Training Loss: 0.0001 Training Accuracy: 0.9999 Val Loss: 0.0001 Val Accuracy: 0.9999\n"
     ]
    },
    {
     "name": "stderr",
     "output_type": "stream",
     "text": [
      "100%|███████████████████████████████████████████████████████████████████████████████████████████████████████████████████████████████| 70/70 [00:00<00:00, 159.69it/s]\n",
      " 43%|██████████████████████████████████████████████████████▍                                                                        | 30/70 [00:00<00:00, 139.14it/s]"
     ]
    },
    {
     "name": "stdout",
     "output_type": "stream",
     "text": [
      "Example target: [-0.76401538]\n",
      "Example prediction: [-0.7579]\n",
      "Epoch 55 Training Loss: 0.0 Training Accuracy: 1.0 Val Loss: 0.0001 Val Accuracy: 0.9999\n"
     ]
    },
    {
     "name": "stderr",
     "output_type": "stream",
     "text": [
      "100%|███████████████████████████████████████████████████████████████████████████████████████████████████████████████████████████████| 70/70 [00:00<00:00, 146.31it/s]\n",
      " 21%|███████████████████████████▏                                                                                                   | 15/70 [00:00<00:00, 145.68it/s]"
     ]
    },
    {
     "name": "stdout",
     "output_type": "stream",
     "text": [
      "Example target: [-0.00253817]\n",
      "Example prediction: [0.0067]\n",
      "Epoch 56 Training Loss: 0.0001 Training Accuracy: 0.9999 Val Loss: 0.0001 Val Accuracy: 0.9999\n"
     ]
    },
    {
     "name": "stderr",
     "output_type": "stream",
     "text": [
      "100%|███████████████████████████████████████████████████████████████████████████████████████████████████████████████████████████████| 70/70 [00:00<00:00, 153.61it/s]\n",
      " 24%|██████████████████████████████▊                                                                                                | 17/70 [00:00<00:00, 160.47it/s]"
     ]
    },
    {
     "name": "stdout",
     "output_type": "stream",
     "text": [
      "Example target: [-0.1360467]\n",
      "Example prediction: [-0.1372]\n",
      "Epoch 57 Training Loss: 0.0001 Training Accuracy: 0.9999 Val Loss: 0.0001 Val Accuracy: 0.9999\n"
     ]
    },
    {
     "name": "stderr",
     "output_type": "stream",
     "text": [
      "100%|███████████████████████████████████████████████████████████████████████████████████████████████████████████████████████████████| 70/70 [00:00<00:00, 160.92it/s]\n",
      " 17%|█████████████████████▊                                                                                                         | 12/70 [00:00<00:00, 116.72it/s]"
     ]
    },
    {
     "name": "stdout",
     "output_type": "stream",
     "text": [
      "Example target: [0.35734519]\n",
      "Example prediction: [0.3645]\n",
      "Epoch 58 Training Loss: 0.0001 Training Accuracy: 0.9999 Val Loss: 0.0 Val Accuracy: 1.0\n"
     ]
    },
    {
     "name": "stderr",
     "output_type": "stream",
     "text": [
      "100%|███████████████████████████████████████████████████████████████████████████████████████████████████████████████████████████████| 70/70 [00:00<00:00, 142.32it/s]\n",
      " 21%|███████████████████████████▏                                                                                                   | 15/70 [00:00<00:00, 142.71it/s]"
     ]
    },
    {
     "name": "stdout",
     "output_type": "stream",
     "text": [
      "Example target: [-0.31583091]\n",
      "Example prediction: [-0.3152]\n",
      "Epoch 59 Training Loss: 0.0 Training Accuracy: 1.0 Val Loss: 0.0 Val Accuracy: 1.0\n"
     ]
    },
    {
     "name": "stderr",
     "output_type": "stream",
     "text": [
      "100%|███████████████████████████████████████████████████████████████████████████████████████████████████████████████████████████████| 70/70 [00:00<00:00, 141.04it/s]\n",
      " 23%|█████████████████████████████                                                                                                  | 16/70 [00:00<00:00, 158.41it/s]"
     ]
    },
    {
     "name": "stdout",
     "output_type": "stream",
     "text": [
      "Example target: [-0.99793706]\n",
      "Example prediction: [-0.9997]\n",
      "Epoch 60 Training Loss: 0.0001 Training Accuracy: 0.9999 Val Loss: 0.0001 Val Accuracy: 0.9999\n"
     ]
    },
    {
     "name": "stderr",
     "output_type": "stream",
     "text": [
      "100%|███████████████████████████████████████████████████████████████████████████████████████████████████████████████████████████████| 70/70 [00:00<00:00, 153.17it/s]\n",
      " 41%|████████████████████████████████████████████████████▌                                                                          | 29/70 [00:00<00:00, 128.68it/s]"
     ]
    },
    {
     "name": "stdout",
     "output_type": "stream",
     "text": [
      "Example target: [0.13198587]\n",
      "Example prediction: [0.1291]\n",
      "Epoch 61 Training Loss: 0.0001 Training Accuracy: 0.9999 Val Loss: 0.0001 Val Accuracy: 0.9999\n"
     ]
    },
    {
     "name": "stderr",
     "output_type": "stream",
     "text": [
      "100%|███████████████████████████████████████████████████████████████████████████████████████████████████████████████████████████████| 70/70 [00:00<00:00, 146.56it/s]\n",
      " 21%|███████████████████████████▏                                                                                                   | 15/70 [00:00<00:00, 139.40it/s]"
     ]
    },
    {
     "name": "stdout",
     "output_type": "stream",
     "text": [
      "Example target: [-0.99887915]\n",
      "Example prediction: [-0.9999]\n",
      "Epoch 62 Training Loss: 0.0 Training Accuracy: 1.0 Val Loss: 0.0001 Val Accuracy: 0.9999\n"
     ]
    },
    {
     "name": "stderr",
     "output_type": "stream",
     "text": [
      "100%|███████████████████████████████████████████████████████████████████████████████████████████████████████████████████████████████| 70/70 [00:00<00:00, 140.91it/s]\n",
      " 23%|█████████████████████████████                                                                                                  | 16/70 [00:00<00:00, 155.12it/s]"
     ]
    },
    {
     "name": "stdout",
     "output_type": "stream",
     "text": [
      "Example target: [-0.97020162]\n",
      "Example prediction: [-0.9733]\n",
      "Epoch 63 Training Loss: 0.0 Training Accuracy: 1.0 Val Loss: 0.0001 Val Accuracy: 0.9999\n"
     ]
    },
    {
     "name": "stderr",
     "output_type": "stream",
     "text": [
      "100%|███████████████████████████████████████████████████████████████████████████████████████████████████████████████████████████████| 70/70 [00:00<00:00, 151.50it/s]\n",
      " 24%|██████████████████████████████▊                                                                                                | 17/70 [00:00<00:00, 161.46it/s]"
     ]
    },
    {
     "name": "stdout",
     "output_type": "stream",
     "text": [
      "Example target: [-0.06126905]\n",
      "Example prediction: [-0.0511]\n",
      "Epoch 64 Training Loss: 0.0 Training Accuracy: 1.0 Val Loss: 0.0 Val Accuracy: 1.0\n"
     ]
    },
    {
     "name": "stderr",
     "output_type": "stream",
     "text": [
      "100%|███████████████████████████████████████████████████████████████████████████████████████████████████████████████████████████████| 70/70 [00:00<00:00, 136.32it/s]\n",
      " 23%|█████████████████████████████                                                                                                  | 16/70 [00:00<00:00, 150.08it/s]"
     ]
    },
    {
     "name": "stdout",
     "output_type": "stream",
     "text": [
      "Example target: [-0.90100495]\n",
      "Example prediction: [-0.9084]\n",
      "Epoch 65 Training Loss: 0.0 Training Accuracy: 1.0 Val Loss: 0.0 Val Accuracy: 1.0\n"
     ]
    },
    {
     "name": "stderr",
     "output_type": "stream",
     "text": [
      "100%|███████████████████████████████████████████████████████████████████████████████████████████████████████████████████████████████| 70/70 [00:00<00:00, 153.83it/s]\n",
      " 46%|██████████████████████████████████████████████████████████                                                                     | 32/70 [00:00<00:00, 157.13it/s]"
     ]
    },
    {
     "name": "stdout",
     "output_type": "stream",
     "text": [
      "Example target: [-0.84176762]\n",
      "Example prediction: [-0.8404]\n",
      "Epoch 66 Training Loss: 0.0 Training Accuracy: 1.0 Val Loss: 0.0 Val Accuracy: 1.0\n"
     ]
    },
    {
     "name": "stderr",
     "output_type": "stream",
     "text": [
      "100%|███████████████████████████████████████████████████████████████████████████████████████████████████████████████████████████████| 70/70 [00:00<00:00, 156.30it/s]\n",
      " 24%|██████████████████████████████▊                                                                                                | 17/70 [00:00<00:00, 168.43it/s]"
     ]
    },
    {
     "name": "stdout",
     "output_type": "stream",
     "text": [
      "Example target: [-0.76922178]\n",
      "Example prediction: [-0.7633]\n",
      "Epoch 67 Training Loss: 0.0 Training Accuracy: 1.0 Val Loss: 0.0 Val Accuracy: 1.0\n"
     ]
    },
    {
     "name": "stderr",
     "output_type": "stream",
     "text": [
      "100%|███████████████████████████████████████████████████████████████████████████████████████████████████████████████████████████████| 70/70 [00:00<00:00, 151.86it/s]\n",
      " 43%|██████████████████████████████████████████████████████▍                                                                        | 30/70 [00:00<00:00, 148.62it/s]"
     ]
    },
    {
     "name": "stdout",
     "output_type": "stream",
     "text": [
      "Example target: [-0.75503907]\n",
      "Example prediction: [-0.7486]\n",
      "Epoch 68 Training Loss: 0.0 Training Accuracy: 1.0 Val Loss: 0.0 Val Accuracy: 1.0\n"
     ]
    },
    {
     "name": "stderr",
     "output_type": "stream",
     "text": [
      "100%|███████████████████████████████████████████████████████████████████████████████████████████████████████████████████████████████| 70/70 [00:00<00:00, 145.01it/s]\n",
      " 24%|██████████████████████████████▊                                                                                                | 17/70 [00:00<00:00, 165.31it/s]"
     ]
    },
    {
     "name": "stdout",
     "output_type": "stream",
     "text": [
      "Example target: [-0.48326473]\n",
      "Example prediction: [-0.485]\n",
      "Epoch 69 Training Loss: 0.0 Training Accuracy: 1.0 Val Loss: 0.0 Val Accuracy: 1.0\n"
     ]
    },
    {
     "name": "stderr",
     "output_type": "stream",
     "text": [
      "100%|███████████████████████████████████████████████████████████████████████████████████████████████████████████████████████████████| 70/70 [00:00<00:00, 162.23it/s]\n",
      " 20%|█████████████████████████▍                                                                                                     | 14/70 [00:00<00:00, 131.66it/s]"
     ]
    },
    {
     "name": "stdout",
     "output_type": "stream",
     "text": [
      "Example target: [-0.94431506]\n",
      "Example prediction: [-0.9479]\n",
      "Epoch 70 Training Loss: 0.0 Training Accuracy: 1.0 Val Loss: 0.0 Val Accuracy: 1.0\n"
     ]
    },
    {
     "name": "stderr",
     "output_type": "stream",
     "text": [
      "100%|███████████████████████████████████████████████████████████████████████████████████████████████████████████████████████████████| 70/70 [00:00<00:00, 145.24it/s]\n",
      " 46%|██████████████████████████████████████████████████████████                                                                     | 32/70 [00:00<00:00, 156.81it/s]"
     ]
    },
    {
     "name": "stdout",
     "output_type": "stream",
     "text": [
      "Example target: [-0.77925275]\n",
      "Example prediction: [-0.773]\n",
      "Epoch 71 Training Loss: 0.0 Training Accuracy: 1.0 Val Loss: 0.0 Val Accuracy: 1.0\n"
     ]
    },
    {
     "name": "stderr",
     "output_type": "stream",
     "text": [
      "100%|███████████████████████████████████████████████████████████████████████████████████████████████████████████████████████████████| 70/70 [00:00<00:00, 149.23it/s]\n",
      " 43%|██████████████████████████████████████████████████████▍                                                                        | 30/70 [00:00<00:00, 145.16it/s]"
     ]
    },
    {
     "name": "stdout",
     "output_type": "stream",
     "text": [
      "Example target: [-0.37598141]\n",
      "Example prediction: [-0.3653]\n",
      "Epoch 72 Training Loss: 0.0 Training Accuracy: 1.0 Val Loss: 0.0 Val Accuracy: 1.0\n"
     ]
    },
    {
     "name": "stderr",
     "output_type": "stream",
     "text": [
      "100%|███████████████████████████████████████████████████████████████████████████████████████████████████████████████████████████████| 70/70 [00:00<00:00, 149.51it/s]\n",
      " 24%|██████████████████████████████▊                                                                                                | 17/70 [00:00<00:00, 165.80it/s]"
     ]
    },
    {
     "name": "stdout",
     "output_type": "stream",
     "text": [
      "Example target: [-0.63195309]\n",
      "Example prediction: [-0.6408]\n",
      "Epoch 73 Training Loss: 0.0 Training Accuracy: 1.0 Val Loss: 0.0 Val Accuracy: 1.0\n"
     ]
    },
    {
     "name": "stderr",
     "output_type": "stream",
     "text": [
      "100%|███████████████████████████████████████████████████████████████████████████████████████████████████████████████████████████████| 70/70 [00:00<00:00, 154.21it/s]\n",
      " 47%|███████████████████████████████████████████████████████████▊                                                                   | 33/70 [00:00<00:00, 160.94it/s]"
     ]
    },
    {
     "name": "stdout",
     "output_type": "stream",
     "text": [
      "Example target: [-0.98169893]\n",
      "Example prediction: [-0.9814]\n",
      "Epoch 74 Training Loss: 0.0 Training Accuracy: 1.0 Val Loss: 0.0 Val Accuracy: 1.0\n"
     ]
    },
    {
     "name": "stderr",
     "output_type": "stream",
     "text": [
      "100%|███████████████████████████████████████████████████████████████████████████████████████████████████████████████████████████████| 70/70 [00:00<00:00, 148.68it/s]\n",
      " 26%|████████████████████████████████▋                                                                                              | 18/70 [00:00<00:00, 171.49it/s]"
     ]
    },
    {
     "name": "stdout",
     "output_type": "stream",
     "text": [
      "Example target: [-0.74286257]\n",
      "Example prediction: [-0.7384]\n",
      "Epoch 75 Training Loss: 0.0 Training Accuracy: 1.0 Val Loss: 0.0 Val Accuracy: 1.0\n"
     ]
    },
    {
     "name": "stderr",
     "output_type": "stream",
     "text": [
      "100%|███████████████████████████████████████████████████████████████████████████████████████████████████████████████████████████████| 70/70 [00:00<00:00, 162.14it/s]\n",
      " 21%|███████████████████████████▏                                                                                                   | 15/70 [00:00<00:00, 148.11it/s]"
     ]
    },
    {
     "name": "stdout",
     "output_type": "stream",
     "text": [
      "Example target: [-0.30651103]\n",
      "Example prediction: [-0.3065]\n",
      "Epoch 76 Training Loss: 0.0 Training Accuracy: 1.0 Val Loss: 0.0 Val Accuracy: 1.0\n"
     ]
    },
    {
     "name": "stderr",
     "output_type": "stream",
     "text": [
      "100%|███████████████████████████████████████████████████████████████████████████████████████████████████████████████████████████████| 70/70 [00:00<00:00, 153.37it/s]\n",
      " 24%|██████████████████████████████▊                                                                                                | 17/70 [00:00<00:00, 160.57it/s]"
     ]
    },
    {
     "name": "stdout",
     "output_type": "stream",
     "text": [
      "Example target: [-0.42068072]\n",
      "Example prediction: [-0.4202]\n",
      "Epoch 77 Training Loss: 0.0 Training Accuracy: 1.0 Val Loss: 0.0 Val Accuracy: 1.0\n"
     ]
    },
    {
     "name": "stderr",
     "output_type": "stream",
     "text": [
      "100%|███████████████████████████████████████████████████████████████████████████████████████████████████████████████████████████████| 70/70 [00:00<00:00, 163.53it/s]\n",
      " 24%|██████████████████████████████▊                                                                                                | 17/70 [00:00<00:00, 164.84it/s]"
     ]
    },
    {
     "name": "stdout",
     "output_type": "stream",
     "text": [
      "Example target: [-0.98920874]\n",
      "Example prediction: [-0.9873]\n",
      "Epoch 78 Training Loss: 0.0 Training Accuracy: 1.0 Val Loss: 0.0 Val Accuracy: 1.0\n"
     ]
    },
    {
     "name": "stderr",
     "output_type": "stream",
     "text": [
      "100%|███████████████████████████████████████████████████████████████████████████████████████████████████████████████████████████████| 70/70 [00:00<00:00, 160.91it/s]\n",
      " 26%|████████████████████████████████▋                                                                                              | 18/70 [00:00<00:00, 173.85it/s]"
     ]
    },
    {
     "name": "stdout",
     "output_type": "stream",
     "text": [
      "Example target: [-0.77418184]\n",
      "Example prediction: [-0.7675]\n",
      "Epoch 79 Training Loss: 0.0 Training Accuracy: 1.0 Val Loss: 0.0 Val Accuracy: 1.0\n"
     ]
    },
    {
     "name": "stderr",
     "output_type": "stream",
     "text": [
      "100%|███████████████████████████████████████████████████████████████████████████████████████████████████████████████████████████████| 70/70 [00:00<00:00, 130.26it/s]\n",
      " 41%|████████████████████████████████████████████████████▌                                                                          | 29/70 [00:00<00:00, 130.37it/s]"
     ]
    },
    {
     "name": "stdout",
     "output_type": "stream",
     "text": [
      "Example target: [-0.97446752]\n",
      "Example prediction: [-0.9738]\n",
      "Epoch 80 Training Loss: 0.0 Training Accuracy: 1.0 Val Loss: 0.0 Val Accuracy: 1.0\n"
     ]
    },
    {
     "name": "stderr",
     "output_type": "stream",
     "text": [
      "100%|███████████████████████████████████████████████████████████████████████████████████████████████████████████████████████████████| 70/70 [00:00<00:00, 136.24it/s]\n",
      " 23%|█████████████████████████████                                                                                                  | 16/70 [00:00<00:00, 153.30it/s]"
     ]
    },
    {
     "name": "stdout",
     "output_type": "stream",
     "text": [
      "Example target: [-0.99874726]\n",
      "Example prediction: [-0.9992]\n",
      "Epoch 81 Training Loss: 0.0 Training Accuracy: 1.0 Val Loss: 0.0 Val Accuracy: 1.0\n"
     ]
    },
    {
     "name": "stderr",
     "output_type": "stream",
     "text": [
      "100%|███████████████████████████████████████████████████████████████████████████████████████████████████████████████████████████████| 70/70 [00:00<00:00, 144.52it/s]\n",
      " 20%|█████████████████████████▍                                                                                                     | 14/70 [00:00<00:00, 134.71it/s]"
     ]
    },
    {
     "name": "stdout",
     "output_type": "stream",
     "text": [
      "Example target: [0.35286779]\n",
      "Example prediction: [0.3587]\n",
      "Epoch 82 Training Loss: 0.0 Training Accuracy: 1.0 Val Loss: 0.0 Val Accuracy: 1.0\n"
     ]
    },
    {
     "name": "stderr",
     "output_type": "stream",
     "text": [
      "100%|███████████████████████████████████████████████████████████████████████████████████████████████████████████████████████████████| 70/70 [00:00<00:00, 150.57it/s]\n",
      " 20%|█████████████████████████▍                                                                                                     | 14/70 [00:00<00:00, 136.35it/s]"
     ]
    },
    {
     "name": "stdout",
     "output_type": "stream",
     "text": [
      "Example target: [-0.98682713]\n",
      "Example prediction: [-0.9873]\n",
      "Epoch 83 Training Loss: 0.0 Training Accuracy: 1.0 Val Loss: 0.0 Val Accuracy: 1.0\n"
     ]
    },
    {
     "name": "stderr",
     "output_type": "stream",
     "text": [
      "100%|███████████████████████████████████████████████████████████████████████████████████████████████████████████████████████████████| 70/70 [00:00<00:00, 158.89it/s]\n",
      " 19%|███████████████████████▌                                                                                                       | 13/70 [00:00<00:00, 120.01it/s]"
     ]
    },
    {
     "name": "stdout",
     "output_type": "stream",
     "text": [
      "Example target: [-0.90003041]\n",
      "Example prediction: [-0.9046]\n",
      "Epoch 84 Training Loss: 0.0 Training Accuracy: 1.0 Val Loss: 0.0 Val Accuracy: 1.0\n"
     ]
    },
    {
     "name": "stderr",
     "output_type": "stream",
     "text": [
      "100%|███████████████████████████████████████████████████████████████████████████████████████████████████████████████████████████████| 70/70 [00:00<00:00, 136.77it/s]\n",
      " 20%|█████████████████████████▍                                                                                                     | 14/70 [00:00<00:00, 131.01it/s]"
     ]
    },
    {
     "name": "stdout",
     "output_type": "stream",
     "text": [
      "Example target: [0.32186063]\n",
      "Example prediction: [0.3254]\n",
      "Epoch 85 Training Loss: 0.0 Training Accuracy: 1.0 Val Loss: 0.0 Val Accuracy: 1.0\n"
     ]
    },
    {
     "name": "stderr",
     "output_type": "stream",
     "text": [
      "100%|███████████████████████████████████████████████████████████████████████████████████████████████████████████████████████████████| 70/70 [00:00<00:00, 132.14it/s]\n",
      " 21%|███████████████████████████▏                                                                                                   | 15/70 [00:00<00:00, 144.42it/s]"
     ]
    },
    {
     "name": "stdout",
     "output_type": "stream",
     "text": [
      "Example target: [-0.90979655]\n",
      "Example prediction: [-0.9133]\n",
      "Epoch 86 Training Loss: 0.0 Training Accuracy: 1.0 Val Loss: 0.0 Val Accuracy: 1.0\n"
     ]
    },
    {
     "name": "stderr",
     "output_type": "stream",
     "text": [
      "100%|███████████████████████████████████████████████████████████████████████████████████████████████████████████████████████████████| 70/70 [00:00<00:00, 157.50it/s]\n",
      " 17%|█████████████████████▊                                                                                                         | 12/70 [00:00<00:00, 118.39it/s]"
     ]
    },
    {
     "name": "stdout",
     "output_type": "stream",
     "text": [
      "Example target: [-0.948801]\n",
      "Example prediction: [-0.9524]\n",
      "Epoch 87 Training Loss: 0.0 Training Accuracy: 1.0 Val Loss: 0.0 Val Accuracy: 1.0\n"
     ]
    },
    {
     "name": "stderr",
     "output_type": "stream",
     "text": [
      "100%|███████████████████████████████████████████████████████████████████████████████████████████████████████████████████████████████| 70/70 [00:00<00:00, 147.41it/s]\n",
      " 21%|███████████████████████████▏                                                                                                   | 15/70 [00:00<00:00, 148.50it/s]"
     ]
    },
    {
     "name": "stdout",
     "output_type": "stream",
     "text": [
      "Example target: [-0.34681355]\n",
      "Example prediction: [-0.341]\n",
      "Epoch 88 Training Loss: 0.0 Training Accuracy: 1.0 Val Loss: 0.0 Val Accuracy: 1.0\n"
     ]
    },
    {
     "name": "stderr",
     "output_type": "stream",
     "text": [
      "100%|███████████████████████████████████████████████████████████████████████████████████████████████████████████████████████████████| 70/70 [00:00<00:00, 153.59it/s]\n",
      " 49%|█████████████████████████████████████████████████████████████▋                                                                 | 34/70 [00:00<00:00, 166.60it/s]"
     ]
    },
    {
     "name": "stdout",
     "output_type": "stream",
     "text": [
      "Example target: [-0.99751007]\n",
      "Example prediction: [-0.9967]\n",
      "Epoch 89 Training Loss: 0.0 Training Accuracy: 1.0 Val Loss: 0.0 Val Accuracy: 1.0\n"
     ]
    },
    {
     "name": "stderr",
     "output_type": "stream",
     "text": [
      "100%|███████████████████████████████████████████████████████████████████████████████████████████████████████████████████████████████| 70/70 [00:00<00:00, 151.17it/s]\n",
      " 47%|███████████████████████████████████████████████████████████▊                                                                   | 33/70 [00:00<00:00, 157.80it/s]"
     ]
    },
    {
     "name": "stdout",
     "output_type": "stream",
     "text": [
      "Example target: [-0.95606607]\n",
      "Example prediction: [-0.9586]\n",
      "Epoch 90 Training Loss: 0.0 Training Accuracy: 1.0 Val Loss: 0.0 Val Accuracy: 1.0\n"
     ]
    },
    {
     "name": "stderr",
     "output_type": "stream",
     "text": [
      "100%|███████████████████████████████████████████████████████████████████████████████████████████████████████████████████████████████| 70/70 [00:00<00:00, 157.15it/s]\n",
      " 44%|████████████████████████████████████████████████████████▏                                                                      | 31/70 [00:00<00:00, 146.29it/s]"
     ]
    },
    {
     "name": "stdout",
     "output_type": "stream",
     "text": [
      "Example target: [-0.42068072]\n",
      "Example prediction: [-0.4226]\n",
      "Epoch 91 Training Loss: 0.0 Training Accuracy: 1.0 Val Loss: 0.0 Val Accuracy: 1.0\n"
     ]
    },
    {
     "name": "stderr",
     "output_type": "stream",
     "text": [
      "100%|███████████████████████████████████████████████████████████████████████████████████████████████████████████████████████████████| 70/70 [00:00<00:00, 155.56it/s]\n",
      " 41%|████████████████████████████████████████████████████▌                                                                          | 29/70 [00:00<00:00, 144.85it/s]"
     ]
    },
    {
     "name": "stdout",
     "output_type": "stream",
     "text": [
      "Example target: [-0.16426419]\n",
      "Example prediction: [-0.168]\n",
      "Epoch 92 Training Loss: 0.0 Training Accuracy: 1.0 Val Loss: 0.0 Val Accuracy: 1.0\n"
     ]
    },
    {
     "name": "stderr",
     "output_type": "stream",
     "text": [
      "100%|███████████████████████████████████████████████████████████████████████████████████████████████████████████████████████████████| 70/70 [00:00<00:00, 150.79it/s]\n",
      " 26%|████████████████████████████████▋                                                                                              | 18/70 [00:00<00:00, 173.25it/s]"
     ]
    },
    {
     "name": "stdout",
     "output_type": "stream",
     "text": [
      "Example target: [-0.82115065]\n",
      "Example prediction: [-0.8204]\n",
      "Epoch 93 Training Loss: 0.0 Training Accuracy: 1.0 Val Loss: 0.0 Val Accuracy: 1.0\n"
     ]
    },
    {
     "name": "stderr",
     "output_type": "stream",
     "text": [
      "100%|███████████████████████████████████████████████████████████████████████████████████████████████████████████████████████████████| 70/70 [00:00<00:00, 154.47it/s]\n",
      " 21%|███████████████████████████▏                                                                                                   | 15/70 [00:00<00:00, 139.82it/s]"
     ]
    },
    {
     "name": "stdout",
     "output_type": "stream",
     "text": [
      "Example target: [-0.98682713]\n",
      "Example prediction: [-0.9865]\n",
      "Epoch 94 Training Loss: 0.0 Training Accuracy: 1.0 Val Loss: 0.0 Val Accuracy: 1.0\n"
     ]
    },
    {
     "name": "stderr",
     "output_type": "stream",
     "text": [
      "100%|███████████████████████████████████████████████████████████████████████████████████████████████████████████████████████████████| 70/70 [00:00<00:00, 141.46it/s]\n",
      " 23%|█████████████████████████████                                                                                                  | 16/70 [00:00<00:00, 153.91it/s]"
     ]
    },
    {
     "name": "stdout",
     "output_type": "stream",
     "text": [
      "Example target: [-0.98707048]\n",
      "Example prediction: [-0.9855]\n",
      "Epoch 95 Training Loss: 0.0 Training Accuracy: 1.0 Val Loss: 0.0 Val Accuracy: 1.0\n"
     ]
    },
    {
     "name": "stderr",
     "output_type": "stream",
     "text": [
      "100%|███████████████████████████████████████████████████████████████████████████████████████████████████████████████████████████████| 70/70 [00:00<00:00, 150.86it/s]\n",
      " 21%|███████████████████████████▏                                                                                                   | 15/70 [00:00<00:00, 144.41it/s]"
     ]
    },
    {
     "name": "stdout",
     "output_type": "stream",
     "text": [
      "Example target: [0.38989591]\n",
      "Example prediction: [0.3977]\n",
      "Epoch 96 Training Loss: 0.0 Training Accuracy: 1.0 Val Loss: 0.0 Val Accuracy: 1.0\n"
     ]
    },
    {
     "name": "stderr",
     "output_type": "stream",
     "text": [
      "100%|███████████████████████████████████████████████████████████████████████████████████████████████████████████████████████████████| 70/70 [00:00<00:00, 151.12it/s]\n",
      " 23%|█████████████████████████████                                                                                                  | 16/70 [00:00<00:00, 151.87it/s]"
     ]
    },
    {
     "name": "stdout",
     "output_type": "stream",
     "text": [
      "Example target: [-0.97020162]\n",
      "Example prediction: [-0.9711]\n",
      "Epoch 97 Training Loss: 0.0 Training Accuracy: 1.0 Val Loss: 0.0 Val Accuracy: 1.0\n"
     ]
    },
    {
     "name": "stderr",
     "output_type": "stream",
     "text": [
      "100%|███████████████████████████████████████████████████████████████████████████████████████████████████████████████████████████████| 70/70 [00:00<00:00, 151.35it/s]\n",
      " 17%|█████████████████████▊                                                                                                         | 12/70 [00:00<00:00, 116.11it/s]"
     ]
    },
    {
     "name": "stdout",
     "output_type": "stream",
     "text": [
      "Example target: [-0.10243698]\n",
      "Example prediction: [-0.0984]\n",
      "Epoch 98 Training Loss: 0.0 Training Accuracy: 1.0 Val Loss: 0.0 Val Accuracy: 1.0\n"
     ]
    },
    {
     "name": "stderr",
     "output_type": "stream",
     "text": [
      "100%|███████████████████████████████████████████████████████████████████████████████████████████████████████████████████████████████| 70/70 [00:00<00:00, 132.52it/s]\n"
     ]
    },
    {
     "name": "stdout",
     "output_type": "stream",
     "text": [
      "Example target: [-0.94593209]\n",
      "Example prediction: [-0.9486]\n",
      "Epoch 99 Training Loss: 0.0 Training Accuracy: 1.0 Val Loss: 0.0 Val Accuracy: 1.0\n",
      "Test Loss: 0.0 Test Accuracy: 1.0\n"
     ]
    }
   ],
   "source": [
    "%run -i train_rnn.py"
   ]
  },
  {
   "cell_type": "code",
   "execution_count": null,
   "metadata": {},
   "outputs": [],
   "source": []
  },
  {
   "cell_type": "code",
   "execution_count": null,
   "metadata": {},
   "outputs": [],
   "source": []
  }
 ],
 "metadata": {
  "kernelspec": {
   "display_name": "Python 3",
   "language": "python",
   "name": "python3"
  },
  "language_info": {
   "codemirror_mode": {
    "name": "ipython",
    "version": 3
   },
   "file_extension": ".py",
   "mimetype": "text/x-python",
   "name": "python",
   "nbconvert_exporter": "python",
   "pygments_lexer": "ipython3",
   "version": "3.6.5"
  }
 },
 "nbformat": 4,
 "nbformat_minor": 2
}
