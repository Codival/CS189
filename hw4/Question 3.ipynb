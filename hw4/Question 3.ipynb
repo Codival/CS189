{
 "cells": [
  {
   "cell_type": "code",
   "execution_count": 1,
   "metadata": {},
   "outputs": [],
   "source": [
    "import numpy as np\n",
    "import matplotlib.pyplot as plt\n",
    "import scipy.special\n",
    "from scipy.stats import multivariate_normal\n",
    "from scipy import io"
   ]
  },
  {
   "cell_type": "code",
   "execution_count": 2,
   "metadata": {},
   "outputs": [
    {
     "name": "stdout",
     "output_type": "stream",
     "text": [
      "\n",
      "loaded %s data!\n"
     ]
    }
   ],
   "source": [
    "data = io.loadmat(\"data/data.mat\")\n",
    "print(\"\\nloaded %s data!\")\n",
    "\n",
    "\n",
    "loaded_data = io.loadmat(\"data/data.mat\")\n",
    "data, labels = loaded_data['X'], loaded_data['y']\n",
    "test_data = loaded_data['X_test']\n",
    "val_data = data[:1000]\n",
    "val_labels = labels[:1000]\n",
    "data = data[1000:]\n",
    "labels = labels[1000:]"
   ]
  },
  {
   "cell_type": "code",
   "execution_count": 3,
   "metadata": {},
   "outputs": [],
   "source": [
    "def norm_and_add_fiction(data):\n",
    "    mean = np.mean(data, axis=0)\n",
    "    std = np.std(data, axis=0)\n",
    "\n",
    "    normalized_test = np.zeros_like(data)\n",
    "\n",
    "    for i in range(data.shape[1]):\n",
    "        normalized_test[:,i] = data[:,i] - mean[i]\n",
    "        normalized_test[:,i] = normalized_test[:,i] / std[i]\n",
    "\n",
    "    norm_b = np.array(np.hstack((normalized_test, np.ones((normalized_test.shape[0],1)))))\n",
    "    return norm_b\n",
    "\n",
    "\n",
    "normalized_data = norm_and_add_fiction(data)\n",
    "fictional_val = norm_and_add_fiction(val_data)\n",
    "m,n = np.asmatrix(normalized_data).shape"
   ]
  },
  {
   "cell_type": "code",
   "execution_count": 4,
   "metadata": {},
   "outputs": [],
   "source": [
    "def batch_gradient_update(w, learning_rate, labels, data,i):\n",
    "    return w + learning_rate * (labels[i] - scipy.special.expit(data[i].dot(w))) * data[i]"
   ]
  },
  {
   "cell_type": "code",
   "execution_count": 5,
   "metadata": {},
   "outputs": [],
   "source": [
    "def batch_gradient_descent(i, labels, data):\n",
    "    w = np.zeros(n)\n",
    "    learning_rate = 1e-4\n",
    "\n",
    "    for _ in range(0,i):\n",
    "        np.random.shuffle(data)\n",
    "\n",
    "        for i in range(m):\n",
    "            w = batch_gradient_update(w, learning_rate, labels, data,i)\n",
    "\n",
    "    return w"
   ]
  },
  {
   "cell_type": "code",
   "execution_count": 6,
   "metadata": {},
   "outputs": [],
   "source": [
    "def train(w, labels, data):\n",
    "    norm_w = np.linalg.norm(w[:len(w)-1])\n",
    "    data = np.array(data)\n",
    "    labels = np.array(labels)\n",
    "    s = scipy.special.expit(data.dot(w))\n",
    "    reg = 1e-3\n",
    "\n",
    "    J1 = (reg * norm_w ** 2) / 2\n",
    "    J2 = labels.T.dot(np.log(s))\n",
    "    J3 = (1 - labels).T.dot(np.log(1 - s))\n",
    "\n",
    "    J = J1 - J2 - J3\n",
    "\n",
    "    return J"
   ]
  },
  {
   "cell_type": "code",
   "execution_count": 7,
   "metadata": {},
   "outputs": [
    {
     "data": {
      "text/plain": [
       "[<matplotlib.lines.Line2D at 0x223d4664cf8>]"
      ]
     },
     "execution_count": 7,
     "metadata": {},
     "output_type": "execute_result"
    },
    {
     "data": {
      "image/png": "[encoded data removed]",
      "text/plain": [
       "<Figure size 432x288 with 1 Axes>"
      ]
     },
     "metadata": {},
     "output_type": "display_data"
    }
   ],
   "source": [
    "J, r = [], range(0,50)\n",
    "for i in r:\n",
    "    J += [train(batch_gradient_descent(i, labels, normalized_data), labels, normalized_data)]\n",
    "plt.plot(r[1:], J[1:])"
   ]
  },
  {
   "cell_type": "code",
   "execution_count": 8,
   "metadata": {},
   "outputs": [],
   "source": [
    "def stochastic_gradient_update(w, learning_rate, labels, data,i):\n",
    "    return w + learning_rate * (labels[i] - scipy.special.expit(data[i].dot(w))) * data[i]"
   ]
  },
  {
   "cell_type": "code",
   "execution_count": 9,
   "metadata": {},
   "outputs": [],
   "source": [
    "def stochastic_gradient_descent(i, labels, data):\n",
    "    w = np.zeros(n)\n",
    "    learning_rate = 1e-4\n",
    "\n",
    "    for i in range(0,i):\n",
    "        np.random.shuffle(data)\n",
    "\n",
    "        w = batch_gradient_update(w, learning_rate, labels, data,i)\n",
    "\n",
    "    return w"
   ]
  },
  {
   "cell_type": "code",
   "execution_count": 10,
   "metadata": {},
   "outputs": [
    {
     "data": {
      "text/plain": [
       "[<matplotlib.lines.Line2D at 0x223d45bbdd8>]"
      ]
     },
     "execution_count": 10,
     "metadata": {},
     "output_type": "execute_result"
    },
    {
     "data": {
      "image/png": "[encoded data removed]",
      "text/plain": [
       "<Figure size 432x288 with 1 Axes>"
      ]
     },
     "metadata": {},
     "output_type": "display_data"
    }
   ],
   "source": [
    "J, r = [], range(0,150)\n",
    "for i in r:\n",
    "    J += [train(stochastic_gradient_descent(i, labels, normalized_data), labels, normalized_data)]\n",
    "plt.plot(r[1:], J[1:])"
   ]
  },
  {
   "cell_type": "markdown",
   "metadata": {},
   "source": [
    "The stochastic gradient descent converged slower but it took far shorter time to run through it's iterations. In the end it was faster to run stochastic gradient descent for more iterations than to run batch gradient descent."
   ]
  },
  {
   "cell_type": "code",
   "execution_count": 11,
   "metadata": {},
   "outputs": [],
   "source": [
    "def step_gradient_descent(i, labels, data):\n",
    "    w = np.zeros(n)\n",
    "    delta = .1\n",
    "\n",
    "    for i in range(0,i):\n",
    "        np.random.shuffle(data)\n",
    "        learning_rate = delta/(i+1)\n",
    "        w = batch_gradient_update(w, learning_rate, labels, data,i)\n",
    "\n",
    "    return w"
   ]
  },
  {
   "cell_type": "code",
   "execution_count": 12,
   "metadata": {},
   "outputs": [
    {
     "data": {
      "text/plain": [
       "[<matplotlib.lines.Line2D at 0x223d46eb7f0>]"
      ]
     },
     "execution_count": 12,
     "metadata": {},
     "output_type": "execute_result"
    },
    {
     "data": {
      "image/png": "[encoded data removed]",
      "text/plain": [
       "<Figure size 432x288 with 1 Axes>"
      ]
     },
     "metadata": {},
     "output_type": "display_data"
    }
   ],
   "source": [
    "J, r = [], range(0,150)\n",
    "for i in r:\n",
    "    J += [train(step_gradient_descent(i, labels, normalized_data), labels, normalized_data)]\n",
    "plt.plot(r[1:], J[1:])"
   ]
  },
  {
   "cell_type": "markdown",
   "metadata": {},
   "source": [
    "The best value of delta I used was .1 and step gradient descent converged faster than both batch and stochastic gradient descent, but the variation in loss is far more sporadic"
   ]
  },
  {
   "cell_type": "code",
   "execution_count": 13,
   "metadata": {},
   "outputs": [],
   "source": [
    "def predictions(X, w):\n",
    "    p = scipy.special.expit(X.dot(w))\n",
    "    p[p >= 0.5] = 1\n",
    "    p[p < 0.5] = 0\n",
    "    \n",
    "    return p"
   ]
  },
  {
   "cell_type": "code",
   "execution_count": 14,
   "metadata": {},
   "outputs": [],
   "source": [
    "def step_kaggle(i,data, delta, j):\n",
    "    w = np.zeros(n)\n",
    "    \n",
    "    for _ in range(0, j):\n",
    "        np.random.shuffle(data)\n",
    "        for q in range(0,i):\n",
    "            \n",
    "            learning_rate = delta / (q + 1)\n",
    "\n",
    "            w = batch_gradient_update(w, learning_rate, labels, data,q)\n",
    "\n",
    "    return w"
   ]
  },
  {
   "cell_type": "code",
   "execution_count": 15,
   "metadata": {},
   "outputs": [],
   "source": [
    "data, labels = loaded_data['X'], loaded_data['y']\n",
    "all_data = norm_and_add_fiction(data)"
   ]
  },
  {
   "cell_type": "code",
   "execution_count": 16,
   "metadata": {},
   "outputs": [],
   "source": [
    "test_norm = norm_and_add_fiction(test_data)"
   ]
  },
  {
   "cell_type": "code",
   "execution_count": 17,
   "metadata": {},
   "outputs": [],
   "source": [
    "w = step_kaggle(250,all_data,.1,5)\n",
    "pred = predictions(test_norm,w)"
   ]
  },
  {
   "cell_type": "code",
   "execution_count": 18,
   "metadata": {},
   "outputs": [],
   "source": [
    "# A code snippet to help you save your results into a kaggle accepted csv\n",
    "import pandas as pd\n",
    "import numpy as np\n",
    "\n",
    "# Usage results_to_csv(clf.predict(X_test))\n",
    "def results_to_csv(y_test):\n",
    "    y_test = y_test.astype(int)\n",
    "    df = pd.DataFrame({'Category': y_test})\n",
    "    df.index += 1  # Ensures that the index starts at 1. \n",
    "    df.to_csv('submission.csv', index_label='Id')"
   ]
  },
  {
   "cell_type": "code",
   "execution_count": 19,
   "metadata": {},
   "outputs": [],
   "source": [
    "results_to_csv(pred)"
   ]
  },
  {
   "cell_type": "code",
   "execution_count": null,
   "metadata": {},
   "outputs": [],
   "source": []
  },
  {
   "cell_type": "code",
   "execution_count": null,
   "metadata": {},
   "outputs": [],
   "source": []
  }
 ],
 "metadata": {
  "kernelspec": {
   "display_name": "Python 3",
   "language": "python",
   "name": "python3"
  },
  "language_info": {
   "codemirror_mode": {
    "name": "ipython",
    "version": 3
   },
   "file_extension": ".py",
   "mimetype": "text/x-python",
   "name": "python",
   "nbconvert_exporter": "python",
   "pygments_lexer": "ipython3",
   "version": "3.6.5"
  }
 },
 "nbformat": 4,
 "nbformat_minor": 2
}
